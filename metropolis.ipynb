{
 "cells": [
  {
   "cell_type": "code",
   "execution_count": 71,
   "id": "initial_id",
   "metadata": {
    "collapsed": true,
    "ExecuteTime": {
     "end_time": "2024-01-07T22:49:04.074464Z",
     "start_time": "2024-01-07T22:49:04.067782Z"
    }
   },
   "outputs": [],
   "source": [
    "import numba\n",
    "import numpy as np\n",
    "import matplotlib.pyplot as plt\n",
    "from scipy.ndimage import convolve, generate_binary_structure\n",
    "from matplotlib.animation import FuncAnimation\n",
    "import matplotlib\n",
    "matplotlib.use('QT5Agg')\n",
    "%matplotlib qt"
   ]
  },
  {
   "cell_type": "code",
   "execution_count": 72,
   "outputs": [
    {
     "name": "stderr",
     "output_type": "stream",
     "text": [
      "/Users/danielmiksch/miniconda3/envs/juplab/lib/python3.10/site-packages/numba/core/decorators.py:282: RuntimeWarning: nopython is set for njit and is ignored\n",
      "  warnings.warn('nopython is set for njit and is ignored', RuntimeWarning)\n"
     ]
    }
   ],
   "source": [
    "class metropolis:\n",
    "    def __init__(self, N, J=1, B=0):\n",
    "        self.J = J\n",
    "        self.N = N\n",
    "        self.init_random = np.random.random((N, N))\n",
    "        self.grid_n = np.zeros((N, N))\n",
    "        self.grid_n[self.init_random >= .5] = 1\n",
    "        self.grid_n[self.init_random < .5] = -1\n",
    "    \n",
    "    def get_energy(self, grid):\n",
    "        kernel = generate_binary_structure(2, 1)\n",
    "        kernel[1][1] = False\n",
    "        result = - self.J * grid * convolve(grid, kernel, mode='wrap')\n",
    "        return result.sum()\n",
    "    \n",
    "    def grid(self):\n",
    "        return self.grid_n\n",
    "    \n",
    "    @staticmethod\n",
    "    @numba.njit(\"Tuple((f8[:], f8[:], f8[:,:]))(f8[:,:], i8, f8, f8, i8)\", nopython=True, nogil=True)\n",
    "    def algo(arr_spin, times, beta, energy, N):\n",
    "        arr_spin = arr_spin.copy()\n",
    "        total_spin = np.zeros(times - 1)\n",
    "        total_energy = np.zeros(times - 1)\n",
    "        #spin_states = np.zeros((times - 1, N, N))\n",
    "        # x = np.random.randint(0, N, size=(times - 1))\n",
    "        # y = np.random.randint(0, N, size=(times - 1))\n",
    "        for t in range(0, times - 1):\n",
    "            x = np.random.randint(0,N)\n",
    "            y = np.random.randint(0,N)\n",
    "            spin_t = arr_spin[x, y]\n",
    "            spin_prime = -spin_t\n",
    "            E_t = 0\n",
    "            E_prime = 0\n",
    "            # if x>0:\n",
    "            #     E_t += - spin_t * arr_spin[x-1,y]\n",
    "            #     E_prime += - spin_prime * arr_spin[x-1,y]\n",
    "            # if x<N-1:\n",
    "            #     E_t += - spin_t * arr_spin[x+1,y]\n",
    "            #     E_prime += - spin_prime * arr_spin[x+1,y]\n",
    "            # if y>0:\n",
    "            #     E_t += - spin_t * arr_spin[x,y-1]\n",
    "            #     E_prime += - spin_prime * arr_spin[x,y-1]\n",
    "            # if y<N-1:\n",
    "            #     E_t += - spin_t * arr_spin[x,y+1]\n",
    "            #     E_prime += - spin_prime * arr_spin[x,y+1]\n",
    "            neighbours = [(x - 1) % N, (x + 1) % N, (y - 1) % N, (y + 1) % N]\n",
    "            for nx in [neighbours[0], neighbours[1]]:\n",
    "                E_t += - spin_t * arr_spin[nx, y]\n",
    "                E_prime += - spin_prime * arr_spin[nx, y]\n",
    "            for ny in [neighbours[2], neighbours[3]]:\n",
    "                E_t += - spin_t * arr_spin[x, ny]\n",
    "                E_prime += - spin_prime * arr_spin[x, ny]\n",
    "            dE = E_prime - E_t\n",
    "            if (dE > 0) & (np.random.random() < np.exp(-beta * dE)):\n",
    "                arr_spin[x, y] = spin_prime\n",
    "                energy += dE\n",
    "            elif dE <= 0:\n",
    "                arr_spin[x, y] = spin_prime\n",
    "                energy += dE\n",
    "            total_spin[t] = arr_spin.sum()\n",
    "            total_energy[t] = energy\n",
    "            #spin_states[t] = arr_spin\n",
    "            \n",
    "        return total_spin, total_energy, arr_spin\n",
    "        \n",
    "        \n",
    "    def print_energy(self):\n",
    "        print(self.get_energy(self.grid_n))\n",
    "    \n",
    "    def plot(self):\n",
    "        plt.imshow(self.grid_n, cmap='binary')"
   ],
   "metadata": {
    "collapsed": false,
    "ExecuteTime": {
     "end_time": "2024-01-07T22:49:04.260597Z",
     "start_time": "2024-01-07T22:49:04.076678Z"
    }
   },
   "id": "f91d684baf53a881"
  },
  {
   "cell_type": "code",
   "execution_count": 73,
   "outputs": [],
   "source": [
    "test = metropolis(N=50)"
   ],
   "metadata": {
    "collapsed": false,
    "ExecuteTime": {
     "end_time": "2024-01-07T22:49:04.263594Z",
     "start_time": "2024-01-07T22:49:04.258896Z"
    }
   },
   "id": "7fb1bc0527ac6a0"
  },
  {
   "cell_type": "code",
   "execution_count": 74,
   "outputs": [
    {
     "name": "stdout",
     "output_type": "stream",
     "text": [
      "168.0\n"
     ]
    }
   ],
   "source": [
    "#test.plot()\n",
    "test.print_energy()"
   ],
   "metadata": {
    "collapsed": false,
    "ExecuteTime": {
     "end_time": "2024-01-07T22:49:04.266750Z",
     "start_time": "2024-01-07T22:49:04.262832Z"
    }
   },
   "id": "456e6ff855823949"
  },
  {
   "cell_type": "code",
   "execution_count": 75,
   "outputs": [],
   "source": [
    "spins = test.grid()\n",
    "energy = test.get_energy(spins)"
   ],
   "metadata": {
    "collapsed": false,
    "ExecuteTime": {
     "end_time": "2024-01-07T22:49:04.270096Z",
     "start_time": "2024-01-07T22:49:04.268239Z"
    }
   },
   "id": "aac66d9e753f021e"
  },
  {
   "cell_type": "code",
   "execution_count": 76,
   "outputs": [],
   "source": [
    "kb = 1.380649e-23\n",
    "T = 1e21\n",
    "beta = 1 / (kb * T)"
   ],
   "metadata": {
    "collapsed": false,
    "ExecuteTime": {
     "end_time": "2024-01-07T22:49:04.273239Z",
     "start_time": "2024-01-07T22:49:04.270671Z"
    }
   },
   "id": "e287dbe0547338e7"
  },
  {
   "cell_type": "code",
   "execution_count": 77,
   "outputs": [],
   "source": [
    "spins, energies, equilibrium = test.algo(spins, 2500000, 0.45, energy, 50)"
   ],
   "metadata": {
    "collapsed": false,
    "ExecuteTime": {
     "end_time": "2024-01-07T22:49:10.379815Z",
     "start_time": "2024-01-07T22:49:04.273076Z"
    }
   },
   "id": "6cad89d57fa44045"
  },
  {
   "cell_type": "code",
   "execution_count": 81,
   "outputs": [],
   "source": [
    "fig, axes = plt.subplots(1, 2, figsize=(12,4))\n",
    "\n",
    "plt.rcParams[\"font.family\"] = \"times\"\n",
    "plt.rcParams[\"text.usetex\"] = True\n",
    "\n",
    "ax = axes[0]\n",
    "ax.plot(spins/50**2)\n",
    "ax.set_xlabel('Algorithm Time Steps')\n",
    "ax.set_ylabel(r'Magnetization $\\langle M\\rangle$')\n",
    "ax.grid()\n",
    "ax = axes[1]\n",
    "ax.plot(energies)\n",
    "ax.set_xlabel('Algorithm Time Steps')\n",
    "ax.set_ylabel(r'Energy $E$')\n",
    "ax.grid()\n",
    "fig.tight_layout()\n",
    "fig.suptitle(r'Evolution of Average Spin and Energy', y=1.07, size=18)\n",
    "plt.show()"
   ],
   "metadata": {
    "collapsed": false,
    "ExecuteTime": {
     "end_time": "2024-01-07T22:49:18.180045Z",
     "start_time": "2024-01-07T22:49:17.021018Z"
    }
   },
   "id": "f12b95d42bdfbd17"
  },
  {
   "cell_type": "code",
   "execution_count": 79,
   "outputs": [
    {
     "data": {
      "text/plain": "<matplotlib.image.AxesImage at 0x30fadc160>"
     },
     "execution_count": 79,
     "metadata": {},
     "output_type": "execute_result"
    }
   ],
   "source": [
    "fig, axes = plt.subplots()\n",
    "\n",
    "plt.rcParams[\"font.family\"] = \"times\"\n",
    "plt.rcParams[\"text.usetex\"] = True\n",
    "\n",
    "plt.imshow(equilibrium, cmap='binary')"
   ],
   "metadata": {
    "collapsed": false,
    "ExecuteTime": {
     "end_time": "2024-01-07T22:49:10.666963Z",
     "start_time": "2024-01-07T22:49:10.647659Z"
    }
   },
   "id": "a96a4bc0726d29e6"
  },
  {
   "cell_type": "code",
   "execution_count": 80,
   "outputs": [],
   "source": [
    "# fig, ax = plt.subplots()\n",
    "# \n",
    "# def update(frame):\n",
    "#     ax.clear()\n",
    "#     ax.imshow(equilibrium[frame], cmap='binary')  # oder eine andere passende Colormap\n",
    "#     ax.set_title(f\"Zeitschritt {frame * 1000}\")\n",
    "# \n",
    "# ani = FuncAnimation(fig, update, 999999 // 1000, interval=1)\n",
    "# plt.show()"
   ],
   "metadata": {
    "collapsed": false,
    "ExecuteTime": {
     "end_time": "2024-01-07T22:49:10.667335Z",
     "start_time": "2024-01-07T22:49:10.665421Z"
    }
   },
   "id": "e85f858271f44b8f"
  }
 ],
 "metadata": {
  "kernelspec": {
   "display_name": "Python 3",
   "language": "python",
   "name": "python3"
  },
  "language_info": {
   "codemirror_mode": {
    "name": "ipython",
    "version": 2
   },
   "file_extension": ".py",
   "mimetype": "text/x-python",
   "name": "python",
   "nbconvert_exporter": "python",
   "pygments_lexer": "ipython2",
   "version": "2.7.6"
  }
 },
 "nbformat": 4,
 "nbformat_minor": 5
}
