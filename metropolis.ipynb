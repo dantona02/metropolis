{
 "cells": [
  {
   "cell_type": "code",
   "execution_count": 108,
   "id": "initial_id",
   "metadata": {
    "ExecuteTime": {
     "end_time": "2024-01-11T12:48:02.589302Z",
     "start_time": "2024-01-11T12:48:02.555875Z"
    },
    "collapsed": true,
    "jupyter": {
     "outputs_hidden": true
    }
   },
   "outputs": [],
   "source": [
    "import numba\n",
    "import numpy as np\n",
    "import matplotlib.pyplot as plt\n",
    "from scipy.interpolate import interp1d\n",
    "from scipy.ndimage import convolve, generate_binary_structure\n",
    "import matplotlib.patches as mpatches\n",
    "from scipy.optimize import minimize_scalar\n",
    "from PIL import Image, ImageDraw, ImageFont\n",
    "import multiprocessing"
   ]
  },
  {
   "cell_type": "code",
   "execution_count": 102,
   "id": "474dbd56509c80df",
   "metadata": {
    "ExecuteTime": {
     "end_time": "2024-01-11T12:27:45.531721Z",
     "start_time": "2024-01-11T12:27:45.210777Z"
    },
    "collapsed": false
   },
   "outputs": [
    {
     "name": "stderr",
     "output_type": "stream",
     "text": [
      "/Users/danielmiksch/miniconda3/envs/juplab/lib/python3.10/site-packages/numba/core/decorators.py:282: RuntimeWarning: nopython is set for njit and is ignored\n",
      "  warnings.warn('nopython is set for njit and is ignored', RuntimeWarning)\n"
     ]
    }
   ],
   "source": [
    "\n",
    "@numba.njit(\"Tuple((f8[:], f8[:], f8[:,:], f8[:]))(f8[:,:], i8, f8, f8, i8)\", nopython=True, nogil=True)\n",
    "def metropolis(arr_spin, sweeps, beta, energy, N):\n",
    "    times = sweeps * N ** 2\n",
    "    arr_spin = arr_spin.copy()\n",
    "    total_spin = np.zeros(sweeps)\n",
    "    total_energy = np.zeros(sweeps)\n",
    "    for t in range(0, times - 1):\n",
    "        x = np.random.randint(0,N)\n",
    "        y = np.random.randint(0,N)\n",
    "        spin_t = arr_spin[x, y]\n",
    "        spin_prime = -spin_t\n",
    "        E_t = 0\n",
    "        E_prime = 0\n",
    "        neighbours = [(x - 1) % N, (x + 1) % N, (y - 1) % N, (y + 1) % N]\n",
    "        for nx in [neighbours[0], neighbours[1]]:\n",
    "            E_t += - spin_t * arr_spin[nx, y]\n",
    "            E_prime += - spin_prime * arr_spin[nx, y]\n",
    "        for ny in [neighbours[2], neighbours[3]]:\n",
    "            E_t += - spin_t * arr_spin[x, ny]\n",
    "            E_prime += - spin_prime * arr_spin[x, ny]\n",
    "        dE = E_prime - E_t\n",
    "        if (dE > 0) & (np.random.random() < np.exp(-beta * dE)):\n",
    "            arr_spin[x, y] = spin_prime\n",
    "            energy += dE\n",
    "        elif dE <= 0:\n",
    "            arr_spin[x, y] = spin_prime\n",
    "            energy += dE\n",
    "                \n",
    "        if t % (N ** 2) == 0:\n",
    "            total_spin[t // (N ** 2)] = arr_spin.sum()\n",
    "            total_energy[t // (N ** 2)] = energy\n",
    "    mag_squared = total_spin ** 2\n",
    "        \n",
    "    return total_spin, total_energy, arr_spin, mag_squared"
   ]
  },
  {
   "cell_type": "code",
   "execution_count": 121,
   "id": "67e3346269c37d10",
   "metadata": {
    "ExecuteTime": {
     "end_time": "2024-01-11T15:54:42.978953Z",
     "start_time": "2024-01-11T15:54:42.968693Z"
    },
    "collapsed": false
   },
   "outputs": [],
   "source": [
    "def berechne_magnetization(t, N_array, betas, steps, sweeps):\n",
    "    all_magnetizations = []\n",
    "    for index1, i in enumerate(N_array):\n",
    "        magnetization = np.zeros(len(betas))\n",
    "        for index2, s in enumerate(betas):\n",
    "            helpmodel = Isingmodel(N=i)\n",
    "            grid = helpmodel.grid(i)\n",
    "            energy = helpmodel.get_energy(grid)\n",
    "            spins, energies, equilibrium, mag_squared = metropolis(grid, steps[index1], s, energy, i)\n",
    "            magnetization[index2] = spins[-sweeps[index1]:].mean() / i ** 2\n",
    "        all_magnetizations.append(magnetization)\n",
    "    return all_magnetizations"
   ]
  },
  {
   "cell_type": "code",
   "execution_count": 122,
   "id": "f91d684baf53a881",
   "metadata": {
    "ExecuteTime": {
     "end_time": "2024-01-11T15:54:54.629033Z",
     "start_time": "2024-01-11T15:54:54.085051Z"
    },
    "collapsed": false
   },
   "outputs": [
    {
     "name": "stderr",
     "output_type": "stream",
     "text": [
      "/Users/danielmiksch/miniconda3/envs/juplab/lib/python3.10/site-packages/numba/core/decorators.py:282: RuntimeWarning: nopython is set for njit and is ignored\n",
      "  warnings.warn('nopython is set for njit and is ignored', RuntimeWarning)\n",
      "/Users/danielmiksch/miniconda3/envs/juplab/lib/python3.10/site-packages/numba/core/decorators.py:282: RuntimeWarning: nopython is set for njit and is ignored\n",
      "  warnings.warn('nopython is set for njit and is ignored', RuntimeWarning)\n"
     ]
    }
   ],
   "source": [
    "class Isingmodel:\n",
    "    def __init__(self, N=50, J=1, init=True):\n",
    "        self.J = J\n",
    "        self.N = N\n",
    "        self.init = init\n",
    "    \n",
    "    def grid(self, N):\n",
    "        init_random = np.random.random((N, N))\n",
    "        if self.init:\n",
    "            grid_n = np.ones((N, N))\n",
    "        else:\n",
    "            grid_n = np.zeros((N, N))\n",
    "            grid_n[init_random >= .5] = 1\n",
    "            grid_n[init_random < .5] = -1\n",
    "        return grid_n\n",
    "    \n",
    "    def get_energy(self, grid):\n",
    "        kernel = generate_binary_structure(2, 1)\n",
    "        kernel[1][1] = False\n",
    "        result = - self.J * grid * convolve(grid, kernel, mode='wrap')\n",
    "        return result.sum()\n",
    "    \n",
    "    \n",
    "    \n",
    "    @staticmethod\n",
    "    @numba.njit(\"Tuple((f8[:], f8[:], f8[:,:], f8[:]))(f8[:,:], i8, f8, f8, i8)\", nopython=True, nogil=True)\n",
    "    def metropolis(arr_spin, sweeps, beta, energy, N):\n",
    "        times = sweeps * N ** 2\n",
    "        arr_spin = arr_spin.copy()\n",
    "        total_spin = np.zeros(sweeps)\n",
    "        total_energy = np.zeros(sweeps)\n",
    "        for t in range(0, times - 1):\n",
    "            x = np.random.randint(0,N)\n",
    "            y = np.random.randint(0,N)\n",
    "            spin_t = arr_spin[x, y]\n",
    "            spin_prime = -spin_t\n",
    "            E_t = 0\n",
    "            E_prime = 0\n",
    "            neighbours = [(x - 1) % N, (x + 1) % N, (y - 1) % N, (y + 1) % N]\n",
    "            for nx in [neighbours[0], neighbours[1]]:\n",
    "                E_t += - spin_t * arr_spin[nx, y]\n",
    "                E_prime += - spin_prime * arr_spin[nx, y]\n",
    "            for ny in [neighbours[2], neighbours[3]]:\n",
    "                E_t += - spin_t * arr_spin[x, ny]\n",
    "                E_prime += - spin_prime * arr_spin[x, ny]\n",
    "            dE = E_prime - E_t\n",
    "            if (dE > 0) & (np.random.random() < np.exp(-beta * dE)):\n",
    "                arr_spin[x, y] = spin_prime\n",
    "                energy += dE\n",
    "            elif dE <= 0:\n",
    "                arr_spin[x, y] = spin_prime\n",
    "                energy += dE\n",
    "                \n",
    "            if t % (N ** 2) == 0:\n",
    "                total_spin[t // (N ** 2)] = arr_spin.sum()\n",
    "                total_energy[t // (N ** 2)] = energy\n",
    "        mag_squared = total_spin ** 2\n",
    "        \n",
    "        return total_spin, total_energy, arr_spin, mag_squared\n",
    "        \n",
    "    def plot(self, equilibrium, cmap, times, beta, save=False):\n",
    "        fig, ax = plt.subplots(dpi=150)\n",
    "        plt.rcParams[\"font.family\"] = \"times\"\n",
    "        plt.rcParams[\"text.usetex\"] = True\n",
    "        plt.title(fr'{self.N}$\\times${self.N}-lattice after {times:.1e} sweeps ($N^2$ updates)' + '\\n' + rf'$\\beta={beta}$', fontsize=12, pad=10)\n",
    "        ax.imshow(equilibrium, cmap=cmap, interpolation='none')\n",
    "        white_patch = mpatches.Patch(color='white', label=r'$\\sigma_i=-1$')\n",
    "        black_patch = mpatches.Patch(color='black', label=r'$\\sigma_i=+1$')\n",
    "\n",
    "        legend = ax.legend(handles=[white_patch, black_patch], loc=\"upper right\", bbox_to_anchor=(1.4, 1.02), fancybox=False, edgecolor='black', fontsize=12, facecolor='whitesmoke')\n",
    "        legend.set_zorder(10)\n",
    "        legend.get_frame().set_linewidth(0.5)\n",
    "        plt.show()\n",
    "        if save:\n",
    "            fig.tight_layout()\n",
    "            fig.savefig(f\"/Users/danielmiksch/Downloads/{self.N}by{self.N}_grid.png\")\n",
    "            \n",
    "    @staticmethod\n",
    "    @numba.njit(\"f8[:,:,:](f8[:,:], i8, f8, f8, i8)\", nopython=True, nogil=True)\n",
    "    def animation(arr_spin, sweeps, beta, energy, N):\n",
    "        times = sweeps * N ** 2\n",
    "        arr_spin = arr_spin.copy()\n",
    "        animation_arr = np.zeros((sweeps, N, N))\n",
    "        for t in range(0, times - 1):\n",
    "            x = np.random.randint(0,N)\n",
    "            y = np.random.randint(0,N)\n",
    "            spin_t = arr_spin[x, y]\n",
    "            spin_prime = -spin_t\n",
    "            E_t = 0\n",
    "            E_prime = 0\n",
    "            neighbours = [(x - 1) % N, (x + 1) % N, (y - 1) % N, (y + 1) % N]\n",
    "            for nx in [neighbours[0], neighbours[1]]:\n",
    "                E_t += - spin_t * arr_spin[nx, y]\n",
    "                E_prime += - spin_prime * arr_spin[nx, y]\n",
    "            for ny in [neighbours[2], neighbours[3]]:\n",
    "                E_t += - spin_t * arr_spin[x, ny]\n",
    "                E_prime += - spin_prime * arr_spin[x, ny]\n",
    "            dE = E_prime - E_t\n",
    "            if (dE > 0) & (np.random.random() < np.exp(-beta * dE)):\n",
    "                arr_spin[x, y] = spin_prime\n",
    "                energy += dE\n",
    "            elif dE <= 0:\n",
    "                arr_spin[x, y] = spin_prime\n",
    "                energy += dE\n",
    "                \n",
    "            if t % (N ** 2) == 0:\n",
    "                animation_arr[t // (N ** 2)] = arr_spin.copy()\n",
    "                \n",
    "        return animation_arr\n",
    "    \n",
    "    def save(self, frame_array, path, display_sweeps=True):\n",
    "        pil_frames = []\n",
    "        for i, frame in enumerate(frame_array):\n",
    "            img = Image.fromarray(np.uint8(frame))\n",
    "            b, _ = img.size\n",
    "            if img.mode != 'RGB':\n",
    "                img = img.convert('RGB')\n",
    "            draw = ImageDraw.Draw(img)\n",
    "            if display_sweeps:\n",
    "                text = f\"Sweeps: {i}\"\n",
    "                font = ImageFont.truetype(\"/Library/Fonts/Arial Unicode.ttf\", 20)\n",
    "                draw.text((b // 2, 10), text, fill=\"red\", font=font, anchor='mt')\n",
    "            pil_frames.append(img)\n",
    "                \n",
    "        first_image = pil_frames[0]\n",
    "        first_image.save(path, format='GIF', append_images=pil_frames[1:], save_all=True, duration=20, loop=0)\n",
    "            \n",
    "    def magnetization(self, spins):\n",
    "        return spins / self.N ** 2\n",
    "    \n",
    "    def print_energy(self):\n",
    "        print(self.get_energy(self.grid(self.N)))\n",
    "        \n",
    "\n",
    "    def get_magnetization(self, N_array, betas, steps, sweeps, iterations):\n",
    "        magnetization_list = np.zeros((iterations * len(N_array), len(betas)))\n",
    "        list_index = 0\n",
    "        for t in range(0, iterations):\n",
    "            for index1, i in enumerate(N_array):\n",
    "                magnetization = np.zeros(len(betas))\n",
    "                for index2, s in enumerate(betas):\n",
    "                    spins, energies, equilibrium, mag_squared = self.metropolis(self.grid(i), steps[index1], s, self.get_energy(self.grid(i)), i)\n",
    "                    magnetization[index2] = spins[-sweeps[index1]:].mean() / i ** 2\n",
    "                magnetization_list[list_index] = magnetization\n",
    "                list_index += 1\n",
    "        magnetization_avg = np.zeros((len(N_array), len(betas)))\n",
    "        for i in range(0, len(N_array)):\n",
    "            group = range(i, len(magnetization_list), len(N_array))\n",
    "            magnetization_avg[i] = np.mean(magnetization_list[group, :], axis=0)\n",
    "        return magnetization_avg\n",
    "    \n",
    "    def get_susceptibility(self, N_array, betas, steps ,sweeps, iterations):\n",
    "        variance_list = np.zeros((iterations * len(N_array), len(betas)))\n",
    "        list_index = 0\n",
    "        for t in range(0, iterations):\n",
    "            for index1, i in enumerate(N_array):\n",
    "                variance = np.zeros(len(betas))\n",
    "                for index2, s in enumerate(betas):\n",
    "                    spins, energies, equilibrium, mag_squared = self.metropolis(self.grid(i), steps[index1], s, self.get_energy(self.grid(i)), i)\n",
    "                    variance[index2] = s * (mag_squared[-sweeps[index1]:].mean() - spins[-sweeps[index1]:].mean() ** 2) / i**2\n",
    "                variance_list[list_index] = variance\n",
    "                list_index += 1\n",
    "        variance_avg = np.zeros((len(N_array), len(betas)))\n",
    "        for i in range(0, len(N_array)):\n",
    "            group = range(i, len(variance_list), len(N_array))\n",
    "            variance_avg[i] = np.mean(variance_list[group, :], axis=0)\n",
    "        return variance_avg"
   ]
  },
  {
   "cell_type": "code",
   "execution_count": 66,
   "id": "d9d57b2bea8901f6",
   "metadata": {
    "ExecuteTime": {
     "end_time": "2024-01-11T11:43:14.820260Z",
     "start_time": "2024-01-11T11:43:14.808622Z"
    },
    "collapsed": false
   },
   "outputs": [],
   "source": [
    "def log_interp1d(xx, yy, kind='quadratic'):\n",
    "    logx = np.log10(xx)\n",
    "    logy = np.log10(yy)\n",
    "    lin_interp = interp1d(logx, logy, kind=kind)\n",
    "    log_interp = lambda zz: np.power(10.0, lin_interp(np.log10(zz)))\n",
    "    return log_interp"
   ]
  },
  {
   "cell_type": "markdown",
   "id": "9a08cfeb73c2abd2",
   "metadata": {
    "collapsed": false
   },
   "source": [
    "# a)\n",
    "$50\\times 50$-grid after $10\\,000\\cdot 50^2$ thermalization updates at $\\beta=0.45$. The lattice is being initialized to the ferromagnetic ground state, i.e. all spins are equal to one."
   ]
  },
  {
   "cell_type": "code",
   "execution_count": 123,
   "id": "7fb1bc0527ac6a0",
   "metadata": {
    "ExecuteTime": {
     "end_time": "2024-01-11T15:54:57.441310Z",
     "start_time": "2024-01-11T15:54:57.432917Z"
    },
    "collapsed": false
   },
   "outputs": [],
   "source": [
    "N = 200\n",
    "steps = 10e6 / N ** 2\n",
    "beta = 0.4\n",
    "model = Isingmodel(N=N)\n",
    "spin_grid = model.grid(N)\n",
    "energy = model.get_energy(spin_grid)"
   ]
  },
  {
   "cell_type": "code",
   "execution_count": 64,
   "id": "c07af197310bf9c7",
   "metadata": {
    "ExecuteTime": {
     "end_time": "2024-01-11T11:42:03.049858Z",
     "start_time": "2024-01-11T11:42:02.245430Z"
    },
    "collapsed": false
   },
   "outputs": [],
   "source": [
    "spins50, energies50, equilibrium50, variance50 = model.metropolis(spin_grid, steps, beta, energy, N)"
   ]
  },
  {
   "cell_type": "code",
   "execution_count": 65,
   "id": "68f681d8ca7ee490",
   "metadata": {
    "ExecuteTime": {
     "end_time": "2024-01-11T11:42:10.144464Z",
     "start_time": "2024-01-11T11:42:09.551722Z"
    },
    "collapsed": false
   },
   "outputs": [
    {
     "data": {
      "image/png": "[encoded data removed]",
      "text/plain": [
       "<Figure size 960x720 with 1 Axes>"
      ]
     },
     "metadata": {},
     "output_type": "display_data"
    }
   ],
   "source": [
    "model.plot(equilibrium=equilibrium50, cmap='binary', times=steps, beta=beta, save=False)"
   ]
  },
  {
   "cell_type": "markdown",
   "id": "a849d2ca8d96d022",
   "metadata": {
    "collapsed": false
   },
   "source": [
    "# c)\n",
    "The following code calculates the magnetisation with the metropolis algorithm for $N=20$ and $N=50$ on an interval of $\\beta\\in [0.3,0.7]$. To avoid fluctuation of the magnetization, the last $500\\cdot N^2$ measurements are averaged.\n",
    "The results of this computation are shown in the figure below. As one can see, the magnetization curve of the $50\\times 50$-lattice are much smoother than the one of the $20\\times 20$-lattice.\n",
    "One reason for this is the size of the selected system. In most thermodynamic systems, the assumption is made that the system is infinite. A larger lattice has more spins that can interact. This leads to a larger number of microstates that determine the macro behavior of the system.\n",
    "This results in fewer statistical fluctuations of the observables and thus a smoother magnetization curve."
   ]
  },
  {
   "cell_type": "code",
   "execution_count": 125,
   "id": "c5f57602b87ce4fe",
   "metadata": {
    "collapsed": false,
    "ExecuteTime": {
     "end_time": "2024-01-11T16:52:42.193367Z",
     "start_time": "2024-01-11T16:52:20.807749Z"
    }
   },
   "outputs": [
    {
     "name": "stderr",
     "output_type": "stream",
     "text": [
      "Process SpawnPoolWorker-57:\n",
      "Traceback (most recent call last):\n",
      "  File \"/Users/danielmiksch/miniconda3/envs/juplab/lib/python3.10/multiprocessing/process.py\", line 314, in _bootstrap\n",
      "    self.run()\n",
      "  File \"/Users/danielmiksch/miniconda3/envs/juplab/lib/python3.10/multiprocessing/process.py\", line 108, in run\n",
      "    self._target(*self._args, **self._kwargs)\n",
      "  File \"/Users/danielmiksch/miniconda3/envs/juplab/lib/python3.10/multiprocessing/pool.py\", line 114, in worker\n",
      "    task = get()\n",
      "  File \"/Users/danielmiksch/miniconda3/envs/juplab/lib/python3.10/multiprocessing/queues.py\", line 367, in get\n",
      "    return _ForkingPickler.loads(res)\n",
      "AttributeError: Can't get attribute 'berechne_magnetization' on <module '__main__' (built-in)>\n",
      "Process SpawnPoolWorker-67:\n",
      "Process SpawnPoolWorker-66:\n",
      "Process SpawnPoolWorker-64:\n",
      "Process SpawnPoolWorker-61:\n",
      "Process SpawnPoolWorker-63:\n",
      "Process SpawnPoolWorker-65:\n",
      "Process SpawnPoolWorker-62:\n",
      "Process SpawnPoolWorker-60:\n",
      "Process SpawnPoolWorker-59:\n",
      "Process SpawnPoolWorker-58:\n",
      "Traceback (most recent call last):\n",
      "Traceback (most recent call last):\n",
      "Traceback (most recent call last):\n",
      "  File \"/Users/danielmiksch/miniconda3/envs/juplab/lib/python3.10/multiprocessing/process.py\", line 314, in _bootstrap\n",
      "    self.run()\n",
      "  File \"/Users/danielmiksch/miniconda3/envs/juplab/lib/python3.10/multiprocessing/process.py\", line 108, in run\n",
      "    self._target(*self._args, **self._kwargs)\n",
      "  File \"/Users/danielmiksch/miniconda3/envs/juplab/lib/python3.10/multiprocessing/pool.py\", line 114, in worker\n",
      "    task = get()\n",
      "  File \"/Users/danielmiksch/miniconda3/envs/juplab/lib/python3.10/multiprocessing/queues.py\", line 364, in get\n",
      "    with self._rlock:\n",
      "  File \"/Users/danielmiksch/miniconda3/envs/juplab/lib/python3.10/multiprocessing/synchronize.py\", line 95, in __enter__\n",
      "    return self._semlock.__enter__()\n",
      "  File \"/Users/danielmiksch/miniconda3/envs/juplab/lib/python3.10/multiprocessing/process.py\", line 314, in _bootstrap\n",
      "    self.run()\n",
      "  File \"/Users/danielmiksch/miniconda3/envs/juplab/lib/python3.10/multiprocessing/process.py\", line 108, in run\n",
      "    self._target(*self._args, **self._kwargs)\n",
      "  File \"/Users/danielmiksch/miniconda3/envs/juplab/lib/python3.10/multiprocessing/pool.py\", line 114, in worker\n",
      "    task = get()\n",
      "  File \"/Users/danielmiksch/miniconda3/envs/juplab/lib/python3.10/multiprocessing/queues.py\", line 364, in get\n",
      "    with self._rlock:\n",
      "  File \"/Users/danielmiksch/miniconda3/envs/juplab/lib/python3.10/multiprocessing/synchronize.py\", line 95, in __enter__\n",
      "    return self._semlock.__enter__()\n",
      "KeyboardInterrupt\n",
      "KeyboardInterrupt\n",
      "  File \"/Users/danielmiksch/miniconda3/envs/juplab/lib/python3.10/multiprocessing/process.py\", line 314, in _bootstrap\n",
      "    self.run()\n",
      "  File \"/Users/danielmiksch/miniconda3/envs/juplab/lib/python3.10/multiprocessing/process.py\", line 108, in run\n",
      "    self._target(*self._args, **self._kwargs)\n",
      "  File \"/Users/danielmiksch/miniconda3/envs/juplab/lib/python3.10/multiprocessing/pool.py\", line 114, in worker\n",
      "    task = get()\n",
      "  File \"/Users/danielmiksch/miniconda3/envs/juplab/lib/python3.10/multiprocessing/queues.py\", line 364, in get\n",
      "    with self._rlock:\n",
      "  File \"/Users/danielmiksch/miniconda3/envs/juplab/lib/python3.10/multiprocessing/synchronize.py\", line 95, in __enter__\n",
      "    return self._semlock.__enter__()\n",
      "KeyboardInterrupt\n",
      "Traceback (most recent call last):\n",
      "Traceback (most recent call last):\n",
      "Traceback (most recent call last):\n",
      "  File \"/Users/danielmiksch/miniconda3/envs/juplab/lib/python3.10/multiprocessing/process.py\", line 314, in _bootstrap\n",
      "    self.run()\n",
      "  File \"/Users/danielmiksch/miniconda3/envs/juplab/lib/python3.10/multiprocessing/process.py\", line 314, in _bootstrap\n",
      "    self.run()\n",
      "  File \"/Users/danielmiksch/miniconda3/envs/juplab/lib/python3.10/multiprocessing/process.py\", line 108, in run\n",
      "    self._target(*self._args, **self._kwargs)\n",
      "  File \"/Users/danielmiksch/miniconda3/envs/juplab/lib/python3.10/multiprocessing/process.py\", line 108, in run\n",
      "    self._target(*self._args, **self._kwargs)\n",
      "  File \"/Users/danielmiksch/miniconda3/envs/juplab/lib/python3.10/multiprocessing/pool.py\", line 114, in worker\n",
      "    task = get()\n",
      "  File \"/Users/danielmiksch/miniconda3/envs/juplab/lib/python3.10/multiprocessing/queues.py\", line 364, in get\n",
      "    with self._rlock:\n",
      "  File \"/Users/danielmiksch/miniconda3/envs/juplab/lib/python3.10/multiprocessing/synchronize.py\", line 95, in __enter__\n",
      "    return self._semlock.__enter__()\n",
      "  File \"/Users/danielmiksch/miniconda3/envs/juplab/lib/python3.10/multiprocessing/process.py\", line 314, in _bootstrap\n",
      "    self.run()\n",
      "  File \"/Users/danielmiksch/miniconda3/envs/juplab/lib/python3.10/multiprocessing/process.py\", line 108, in run\n",
      "    self._target(*self._args, **self._kwargs)\n",
      "KeyboardInterrupt\n",
      "  File \"/Users/danielmiksch/miniconda3/envs/juplab/lib/python3.10/multiprocessing/pool.py\", line 114, in worker\n",
      "    task = get()\n",
      "  File \"/Users/danielmiksch/miniconda3/envs/juplab/lib/python3.10/multiprocessing/queues.py\", line 364, in get\n",
      "    with self._rlock:\n",
      "  File \"/Users/danielmiksch/miniconda3/envs/juplab/lib/python3.10/multiprocessing/synchronize.py\", line 95, in __enter__\n",
      "    return self._semlock.__enter__()\n",
      "KeyboardInterrupt\n",
      "Traceback (most recent call last):\n",
      "  File \"/Users/danielmiksch/miniconda3/envs/juplab/lib/python3.10/multiprocessing/process.py\", line 314, in _bootstrap\n",
      "    self.run()\n",
      "  File \"/Users/danielmiksch/miniconda3/envs/juplab/lib/python3.10/multiprocessing/process.py\", line 108, in run\n",
      "    self._target(*self._args, **self._kwargs)\n",
      "  File \"/Users/danielmiksch/miniconda3/envs/juplab/lib/python3.10/multiprocessing/pool.py\", line 114, in worker\n",
      "    task = get()\n",
      "  File \"/Users/danielmiksch/miniconda3/envs/juplab/lib/python3.10/multiprocessing/queues.py\", line 364, in get\n",
      "    with self._rlock:\n",
      "  File \"/Users/danielmiksch/miniconda3/envs/juplab/lib/python3.10/multiprocessing/synchronize.py\", line 95, in __enter__\n",
      "    return self._semlock.__enter__()\n",
      "KeyboardInterrupt\n",
      "Traceback (most recent call last):\n",
      "  File \"/Users/danielmiksch/miniconda3/envs/juplab/lib/python3.10/multiprocessing/process.py\", line 314, in _bootstrap\n",
      "    self.run()\n",
      "  File \"/Users/danielmiksch/miniconda3/envs/juplab/lib/python3.10/multiprocessing/process.py\", line 108, in run\n",
      "    self._target(*self._args, **self._kwargs)\n",
      "  File \"/Users/danielmiksch/miniconda3/envs/juplab/lib/python3.10/multiprocessing/pool.py\", line 114, in worker\n",
      "    task = get()\n",
      "  File \"/Users/danielmiksch/miniconda3/envs/juplab/lib/python3.10/multiprocessing/queues.py\", line 364, in get\n",
      "    with self._rlock:\n",
      "  File \"/Users/danielmiksch/miniconda3/envs/juplab/lib/python3.10/multiprocessing/synchronize.py\", line 95, in __enter__\n",
      "    return self._semlock.__enter__()\n",
      "KeyboardInterrupt\n",
      "Traceback (most recent call last):\n",
      "  File \"/Users/danielmiksch/miniconda3/envs/juplab/lib/python3.10/multiprocessing/process.py\", line 314, in _bootstrap\n",
      "    self.run()\n",
      "  File \"/Users/danielmiksch/miniconda3/envs/juplab/lib/python3.10/multiprocessing/process.py\", line 108, in run\n",
      "    self._target(*self._args, **self._kwargs)\n",
      "  File \"/Users/danielmiksch/miniconda3/envs/juplab/lib/python3.10/multiprocessing/pool.py\", line 114, in worker\n",
      "    task = get()\n",
      "  File \"/Users/danielmiksch/miniconda3/envs/juplab/lib/python3.10/multiprocessing/queues.py\", line 364, in get\n",
      "    with self._rlock:\n",
      "  File \"/Users/danielmiksch/miniconda3/envs/juplab/lib/python3.10/multiprocessing/synchronize.py\", line 95, in __enter__\n",
      "    return self._semlock.__enter__()\n",
      "KeyboardInterrupt\n",
      "  File \"/Users/danielmiksch/miniconda3/envs/juplab/lib/python3.10/multiprocessing/pool.py\", line 114, in worker\n",
      "    task = get()\n",
      "  File \"/Users/danielmiksch/miniconda3/envs/juplab/lib/python3.10/multiprocessing/queues.py\", line 364, in get\n",
      "    with self._rlock:\n",
      "  File \"/Users/danielmiksch/miniconda3/envs/juplab/lib/python3.10/multiprocessing/synchronize.py\", line 95, in __enter__\n",
      "    return self._semlock.__enter__()\n",
      "KeyboardInterrupt\n",
      "Traceback (most recent call last):\n",
      "  File \"/Users/danielmiksch/miniconda3/envs/juplab/lib/python3.10/multiprocessing/process.py\", line 314, in _bootstrap\n",
      "    self.run()\n",
      "  File \"/Users/danielmiksch/miniconda3/envs/juplab/lib/python3.10/multiprocessing/process.py\", line 108, in run\n",
      "    self._target(*self._args, **self._kwargs)\n",
      "  File \"/Users/danielmiksch/miniconda3/envs/juplab/lib/python3.10/multiprocessing/pool.py\", line 114, in worker\n",
      "    task = get()\n",
      "  File \"/Users/danielmiksch/miniconda3/envs/juplab/lib/python3.10/multiprocessing/queues.py\", line 365, in get\n",
      "    res = self._reader.recv_bytes()\n",
      "  File \"/Users/danielmiksch/miniconda3/envs/juplab/lib/python3.10/multiprocessing/connection.py\", line 216, in recv_bytes\n",
      "    buf = self._recv_bytes(maxlength)\n",
      "  File \"/Users/danielmiksch/miniconda3/envs/juplab/lib/python3.10/multiprocessing/connection.py\", line 414, in _recv_bytes\n",
      "    buf = self._recv(4)\n",
      "  File \"/Users/danielmiksch/miniconda3/envs/juplab/lib/python3.10/multiprocessing/connection.py\", line 379, in _recv\n",
      "    chunk = read(handle, remaining)\n",
      "KeyboardInterrupt\n"
     ]
    },
    {
     "ename": "KeyboardInterrupt",
     "evalue": "",
     "output_type": "error",
     "traceback": [
      "\u001B[0;31m---------------------------------------------------------------------------\u001B[0m",
      "\u001B[0;31mKeyboardInterrupt\u001B[0m                         Traceback (most recent call last)",
      "Cell \u001B[0;32mIn[125], line 6\u001B[0m\n\u001B[1;32m      4\u001B[0m sweeps \u001B[38;5;241m=\u001B[39m [\u001B[38;5;241m500\u001B[39m \u001B[38;5;28;01mfor\u001B[39;00m i \u001B[38;5;129;01min\u001B[39;00m N]\n\u001B[1;32m      5\u001B[0m model \u001B[38;5;241m=\u001B[39m Isingmodel()\n\u001B[0;32m----> 6\u001B[0m magnetization \u001B[38;5;241m=\u001B[39m \u001B[43mmodel\u001B[49m\u001B[38;5;241;43m.\u001B[39;49m\u001B[43mget_magnetization\u001B[49m\u001B[43m(\u001B[49m\u001B[43mN\u001B[49m\u001B[43m,\u001B[49m\u001B[43m \u001B[49m\u001B[43mbetas\u001B[49m\u001B[43m,\u001B[49m\u001B[43m \u001B[49m\u001B[43msteps\u001B[49m\u001B[43m,\u001B[49m\u001B[43m \u001B[49m\u001B[43msweeps\u001B[49m\u001B[43m,\u001B[49m\u001B[43m \u001B[49m\u001B[38;5;241;43m1\u001B[39;49m\u001B[43m)\u001B[49m\n",
      "Cell \u001B[0;32mIn[122], line 139\u001B[0m, in \u001B[0;36mIsingmodel.get_magnetization\u001B[0;34m(self, N_array, betas, steps, sweeps, iterations)\u001B[0m\n\u001B[1;32m    136\u001B[0m args_list \u001B[38;5;241m=\u001B[39m [(t, N_array, betas, steps, sweeps) \u001B[38;5;28;01mfor\u001B[39;00m t \u001B[38;5;129;01min\u001B[39;00m \u001B[38;5;28mrange\u001B[39m(iterations)]\n\u001B[1;32m    138\u001B[0m \u001B[38;5;28;01mwith\u001B[39;00m multiprocessing\u001B[38;5;241m.\u001B[39mPool() \u001B[38;5;28;01mas\u001B[39;00m pool:\n\u001B[0;32m--> 139\u001B[0m     magnetization_list \u001B[38;5;241m=\u001B[39m \u001B[43mpool\u001B[49m\u001B[38;5;241;43m.\u001B[39;49m\u001B[43mstarmap\u001B[49m\u001B[43m(\u001B[49m\u001B[43mberechne_magnetization\u001B[49m\u001B[43m,\u001B[49m\u001B[43m \u001B[49m\u001B[43margs_list\u001B[49m\u001B[43m)\u001B[49m\n\u001B[1;32m    140\u001B[0m magnetization_avg \u001B[38;5;241m=\u001B[39m np\u001B[38;5;241m.\u001B[39mzeros((\u001B[38;5;28mlen\u001B[39m(N_array), \u001B[38;5;28mlen\u001B[39m(betas)))\n\u001B[1;32m    141\u001B[0m \u001B[38;5;28;01mfor\u001B[39;00m i \u001B[38;5;129;01min\u001B[39;00m \u001B[38;5;28mrange\u001B[39m(\u001B[38;5;241m0\u001B[39m, \u001B[38;5;28mlen\u001B[39m(N_array)):\n",
      "File \u001B[0;32m~/miniconda3/envs/juplab/lib/python3.10/multiprocessing/pool.py:375\u001B[0m, in \u001B[0;36mPool.starmap\u001B[0;34m(self, func, iterable, chunksize)\u001B[0m\n\u001B[1;32m    369\u001B[0m \u001B[38;5;28;01mdef\u001B[39;00m \u001B[38;5;21mstarmap\u001B[39m(\u001B[38;5;28mself\u001B[39m, func, iterable, chunksize\u001B[38;5;241m=\u001B[39m\u001B[38;5;28;01mNone\u001B[39;00m):\n\u001B[1;32m    370\u001B[0m \u001B[38;5;250m    \u001B[39m\u001B[38;5;124;03m'''\u001B[39;00m\n\u001B[1;32m    371\u001B[0m \u001B[38;5;124;03m    Like `map()` method but the elements of the `iterable` are expected to\u001B[39;00m\n\u001B[1;32m    372\u001B[0m \u001B[38;5;124;03m    be iterables as well and will be unpacked as arguments. Hence\u001B[39;00m\n\u001B[1;32m    373\u001B[0m \u001B[38;5;124;03m    `func` and (a, b) becomes func(a, b).\u001B[39;00m\n\u001B[1;32m    374\u001B[0m \u001B[38;5;124;03m    '''\u001B[39;00m\n\u001B[0;32m--> 375\u001B[0m     \u001B[38;5;28;01mreturn\u001B[39;00m \u001B[38;5;28;43mself\u001B[39;49m\u001B[38;5;241;43m.\u001B[39;49m\u001B[43m_map_async\u001B[49m\u001B[43m(\u001B[49m\u001B[43mfunc\u001B[49m\u001B[43m,\u001B[49m\u001B[43m \u001B[49m\u001B[43miterable\u001B[49m\u001B[43m,\u001B[49m\u001B[43m \u001B[49m\u001B[43mstarmapstar\u001B[49m\u001B[43m,\u001B[49m\u001B[43m \u001B[49m\u001B[43mchunksize\u001B[49m\u001B[43m)\u001B[49m\u001B[38;5;241;43m.\u001B[39;49m\u001B[43mget\u001B[49m\u001B[43m(\u001B[49m\u001B[43m)\u001B[49m\n",
      "File \u001B[0;32m~/miniconda3/envs/juplab/lib/python3.10/multiprocessing/pool.py:768\u001B[0m, in \u001B[0;36mApplyResult.get\u001B[0;34m(self, timeout)\u001B[0m\n\u001B[1;32m    767\u001B[0m \u001B[38;5;28;01mdef\u001B[39;00m \u001B[38;5;21mget\u001B[39m(\u001B[38;5;28mself\u001B[39m, timeout\u001B[38;5;241m=\u001B[39m\u001B[38;5;28;01mNone\u001B[39;00m):\n\u001B[0;32m--> 768\u001B[0m     \u001B[38;5;28;43mself\u001B[39;49m\u001B[38;5;241;43m.\u001B[39;49m\u001B[43mwait\u001B[49m\u001B[43m(\u001B[49m\u001B[43mtimeout\u001B[49m\u001B[43m)\u001B[49m\n\u001B[1;32m    769\u001B[0m     \u001B[38;5;28;01mif\u001B[39;00m \u001B[38;5;129;01mnot\u001B[39;00m \u001B[38;5;28mself\u001B[39m\u001B[38;5;241m.\u001B[39mready():\n\u001B[1;32m    770\u001B[0m         \u001B[38;5;28;01mraise\u001B[39;00m \u001B[38;5;167;01mTimeoutError\u001B[39;00m\n",
      "File \u001B[0;32m~/miniconda3/envs/juplab/lib/python3.10/multiprocessing/pool.py:765\u001B[0m, in \u001B[0;36mApplyResult.wait\u001B[0;34m(self, timeout)\u001B[0m\n\u001B[1;32m    764\u001B[0m \u001B[38;5;28;01mdef\u001B[39;00m \u001B[38;5;21mwait\u001B[39m(\u001B[38;5;28mself\u001B[39m, timeout\u001B[38;5;241m=\u001B[39m\u001B[38;5;28;01mNone\u001B[39;00m):\n\u001B[0;32m--> 765\u001B[0m     \u001B[38;5;28;43mself\u001B[39;49m\u001B[38;5;241;43m.\u001B[39;49m\u001B[43m_event\u001B[49m\u001B[38;5;241;43m.\u001B[39;49m\u001B[43mwait\u001B[49m\u001B[43m(\u001B[49m\u001B[43mtimeout\u001B[49m\u001B[43m)\u001B[49m\n",
      "File \u001B[0;32m~/miniconda3/envs/juplab/lib/python3.10/threading.py:607\u001B[0m, in \u001B[0;36mEvent.wait\u001B[0;34m(self, timeout)\u001B[0m\n\u001B[1;32m    605\u001B[0m signaled \u001B[38;5;241m=\u001B[39m \u001B[38;5;28mself\u001B[39m\u001B[38;5;241m.\u001B[39m_flag\n\u001B[1;32m    606\u001B[0m \u001B[38;5;28;01mif\u001B[39;00m \u001B[38;5;129;01mnot\u001B[39;00m signaled:\n\u001B[0;32m--> 607\u001B[0m     signaled \u001B[38;5;241m=\u001B[39m \u001B[38;5;28;43mself\u001B[39;49m\u001B[38;5;241;43m.\u001B[39;49m\u001B[43m_cond\u001B[49m\u001B[38;5;241;43m.\u001B[39;49m\u001B[43mwait\u001B[49m\u001B[43m(\u001B[49m\u001B[43mtimeout\u001B[49m\u001B[43m)\u001B[49m\n\u001B[1;32m    608\u001B[0m \u001B[38;5;28;01mreturn\u001B[39;00m signaled\n",
      "File \u001B[0;32m~/miniconda3/envs/juplab/lib/python3.10/threading.py:320\u001B[0m, in \u001B[0;36mCondition.wait\u001B[0;34m(self, timeout)\u001B[0m\n\u001B[1;32m    318\u001B[0m \u001B[38;5;28;01mtry\u001B[39;00m:    \u001B[38;5;66;03m# restore state no matter what (e.g., KeyboardInterrupt)\u001B[39;00m\n\u001B[1;32m    319\u001B[0m     \u001B[38;5;28;01mif\u001B[39;00m timeout \u001B[38;5;129;01mis\u001B[39;00m \u001B[38;5;28;01mNone\u001B[39;00m:\n\u001B[0;32m--> 320\u001B[0m         \u001B[43mwaiter\u001B[49m\u001B[38;5;241;43m.\u001B[39;49m\u001B[43macquire\u001B[49m\u001B[43m(\u001B[49m\u001B[43m)\u001B[49m\n\u001B[1;32m    321\u001B[0m         gotit \u001B[38;5;241m=\u001B[39m \u001B[38;5;28;01mTrue\u001B[39;00m\n\u001B[1;32m    322\u001B[0m     \u001B[38;5;28;01melse\u001B[39;00m:\n",
      "\u001B[0;31mKeyboardInterrupt\u001B[0m: "
     ]
    }
   ],
   "source": [
    "betas = np.linspace(0.3, 0.7, 20)\n",
    "N = [20, 50]\n",
    "steps = [10000 for i in N]\n",
    "sweeps = [500 for i in N]\n",
    "model = Isingmodel()\n",
    "magnetization = model.get_magnetization(N, betas, steps, sweeps, 1)"
   ]
  },
  {
   "cell_type": "code",
   "execution_count": 69,
   "id": "6256f0442372a38f",
   "metadata": {
    "ExecuteTime": {
     "end_time": "2024-01-11T11:48:17.276546Z",
     "start_time": "2024-01-11T11:48:17.174888Z"
    },
    "collapsed": false
   },
   "outputs": [
    {
     "data": {
      "image/png": "[encoded data removed]",
      "text/plain": [
       "<Figure size 640x480 with 1 Axes>"
      ]
     },
     "metadata": {},
     "output_type": "display_data"
    }
   ],
   "source": [
    "fig, ax = plt.subplots()\n",
    "\n",
    "ax.plot(1 / betas, magnetization[0], 'o--', c='blue', label=r'$20\\times20$-lattice')\n",
    "ax.plot(1 / betas, magnetization[1], 'o--', c='red', label=r'$50\\times50$-lattice')\n",
    "ax.axhline(0, c='grey', linewidth=.8)\n",
    "ax.set_xlabel(r'$1/\\beta$')\n",
    "ax.set_ylabel(r'Magnetization $\\langle M\\rangle$')\n",
    "plt.title('Magnetization of different lattices', fontsize=12, pad=10)\n",
    "\n",
    "legend = ax.legend(loc=\"upper right\", bbox_to_anchor=(0.92, 0.92), fancybox=False, edgecolor='black', fontsize=12)\n",
    "legend.set_zorder(10)\n",
    "legend.get_frame().set_linewidth(0.5)\n",
    "\n",
    "plt.show()\n",
    "\n",
    "# fig.savefig(f\"/Users/danielmiksch/Downloads/magnetization.pdf\")"
   ]
  },
  {
   "cell_type": "code",
   "execution_count": null,
   "id": "f12b95d42bdfbd17",
   "metadata": {
    "ExecuteTime": {
     "start_time": "2024-01-08T01:30:59.792042Z"
    },
    "collapsed": false
   },
   "outputs": [],
   "source": [
    "# fig, axes = plt.subplots(1, 2, figsize=(12,4))\n",
    "# \n",
    "# plt.rcParams[\"font.family\"] = \"times\"\n",
    "# plt.rcParams[\"text.usetex\"] = True\n",
    "# \n",
    "# ax = axes[0]\n",
    "# ax.plot(spins/50**2)\n",
    "# ax.set_xlabel('Algorithm Time Steps')\n",
    "# ax.set_ylabel(r'Magnetization $\\langle M\\rangle$')\n",
    "# ax.grid()\n",
    "# ax = axes[1]\n",
    "# ax.plot(energies)\n",
    "# ax.set_xlabel('Algorithm Time Steps')\n",
    "# ax.set_ylabel(r'Energy $E$')\n",
    "# ax.grid()\n",
    "# fig.tight_layout()\n",
    "# fig.suptitle(r'Evolution of Average Spin and Energy', y=1.07, size=18)\n",
    "# plt.show()"
   ]
  },
  {
   "cell_type": "markdown",
   "id": "2398a6a61f295b21",
   "metadata": {
    "collapsed": false
   },
   "source": [
    "# d)\n",
    "This part of the code calculates the variance of the magnetization (or spins). The calculations are performed according to the following formula:\n",
    "\\begin{equation}\n",
    "\\operatorname{Var}\\left(M\\right)=\\left\\langle M^2\\right\\rangle-\\left\\langle M\\right\\rangle^2 \\quad \\text{with}\\quad M=\\sum_{i} \\sigma_i\n",
    "\\end{equation}\n",
    "The variance is then being normalized with the factor $\\beta/N^2$, wich gives us the susceptibility $\\chi$:\n",
    "\\begin{equation}\n",
    "\\chi=\\frac{\\beta}{N^2}\\left(\\left\\langle M^2\\right\\rangle-\\left\\langle M\\right\\rangle^2\\right)\n",
    "\\end{equation}\n",
    "Numerous sweep passes ($600\\cdot N^2$) are also used here to minimize the fluctuations of the observables.\n",
    "As one can see, the calculations with the bigger lattice, i.e. 50 by 50, allows much more precise statements to be made about the susceptibility curve and the critical temperature than with the smaller grid."
   ]
  },
  {
   "cell_type": "code",
   "execution_count": 95,
   "id": "847f0c7e3e918aab",
   "metadata": {
    "ExecuteTime": {
     "end_time": "2024-01-11T12:13:32.950425Z",
     "start_time": "2024-01-11T12:13:12.453116Z"
    },
    "collapsed": false
   },
   "outputs": [],
   "source": [
    "betas = np.linspace(0.3, 0.7, 20)\n",
    "N = [60]\n",
    "steps = [2000 for i in N]\n",
    "sweeps = [200 for i in N]\n",
    "testmodel = Isingmodel()\n",
    "variance = testmodel.get_susceptibility(N, betas, steps, sweeps, 2)"
   ]
  },
  {
   "cell_type": "code",
   "execution_count": 96,
   "id": "f6e5c158df0e4218",
   "metadata": {
    "ExecuteTime": {
     "end_time": "2024-01-11T12:13:34.619381Z",
     "start_time": "2024-01-11T12:13:34.607630Z"
    },
    "collapsed": false
   },
   "outputs": [],
   "source": [
    "# interp_variance50 = log_interp1d(betas, variance[1])\n",
    "interp_variance20 = log_interp1d(betas, variance[0])"
   ]
  },
  {
   "cell_type": "code",
   "execution_count": 97,
   "id": "c526ebc47b0a24fd",
   "metadata": {
    "ExecuteTime": {
     "end_time": "2024-01-11T12:13:35.324322Z",
     "start_time": "2024-01-11T12:13:35.161223Z"
    },
    "collapsed": false
   },
   "outputs": [
    {
     "data": {
      "image/png": "[encoded data removed]",
      "text/plain": [
       "<Figure size 640x480 with 1 Axes>"
      ]
     },
     "metadata": {},
     "output_type": "display_data"
    }
   ],
   "source": [
    "fig, ax = plt.subplots()\n",
    "\n",
    "x = np.linspace(0.3, 0.7, 1000)\n",
    "\n",
    "# ax.plot(1 / x, interp_variance50(x),\n",
    "#          c='red',\n",
    "#          linewidth=.8,\n",
    "#          label='',\n",
    "#          zorder=2)\n",
    "ax.plot(1 / x, interp_variance20(x),\n",
    "         c='blue',\n",
    "         linewidth=.8,\n",
    "         label='',\n",
    "         zorder=2)\n",
    "ax.scatter(1 / betas, variance[0], label=r'$20\\times20$-lattice', marker='.', s=80, edgecolors='none', color='blue')\n",
    "# ax.scatter(1 / betas, variance[1], label=r'$50\\times50$-lattice', marker='.', s=80, edgecolors='none', color='red')\n",
    "ax.set_yscale('log')\n",
    "\n",
    "ax.set_xlabel(r'$1/\\beta$')\n",
    "ax.set_ylabel(r'Susceptibility $\\chi$')\n",
    "plt.title('Susceptibility of different lattices of the ising model', fontsize=12, pad=10)\n",
    "\n",
    "legend = ax.legend(loc=\"upper right\", bbox_to_anchor=(0.9, 0.4), fancybox=False, edgecolor='black', fontsize=12)\n",
    "legend.set_zorder(10)\n",
    "legend.get_frame().set_linewidth(0.5)\n",
    "\n",
    "plt.show()\n",
    "\n",
    "# fig.savefig(f\"/Users/danielmiksch/Downloads/susceptibility.pdf\")"
   ]
  },
  {
   "cell_type": "markdown",
   "id": "34a3215ac3f8d519",
   "metadata": {
    "collapsed": false
   },
   "source": [
    "# e)"
   ]
  },
  {
   "cell_type": "code",
   "execution_count": 73,
   "id": "1a2edcc2d940172f",
   "metadata": {
    "ExecuteTime": {
     "end_time": "2024-01-11T11:53:42.100620Z",
     "start_time": "2024-01-11T11:53:42.084750Z"
    },
    "collapsed": false
   },
   "outputs": [],
   "source": [
    "susceptibility = np.array([[4.23637318e+00, 6.48776817e+00, 9.21784376e+00, 2.02425153e+01,\n",
    "        1.92234617e+01, 1.87984785e+01, 7.40000379e+00, 5.29998396e+00,\n",
    "        1.17735125e+00, 1.44203712e+00, 2.42426470e-01, 2.02178901e-01,\n",
    "        1.26060607e-01, 1.23729902e-01, 5.06868538e-02, 6.12197150e-02,\n",
    "        4.47886637e-02, 3.49408299e-02, 1.94462317e-02, 1.69449796e-02],\n",
    "       [5.47339810e+00, 6.80279635e+00, 8.78538560e+00, 1.09256116e+01,\n",
    "        1.41011402e+01, 4.31103823e+01, 2.08770825e+02, 1.46301852e+01,\n",
    "        2.36193879e+00, 6.90456768e-01, 2.90349619e-01, 2.52328388e-01,\n",
    "        1.63122408e-01, 1.13570352e-01, 6.45294475e-02, 4.80211902e-02,\n",
    "        4.15942776e-02, 2.95113955e-02, 2.49789672e-02, 1.99977009e-02]])"
   ]
  },
  {
   "cell_type": "code",
   "execution_count": 74,
   "id": "9be6ade5fea56763",
   "metadata": {
    "ExecuteTime": {
     "end_time": "2024-01-11T11:53:42.636458Z",
     "start_time": "2024-01-11T11:53:42.619745Z"
    },
    "collapsed": false
   },
   "outputs": [],
   "source": [
    "interp_susceptibility50 = log_interp1d(betas, susceptibility[1])"
   ]
  },
  {
   "cell_type": "code",
   "execution_count": 75,
   "id": "6b58298f909ba311",
   "metadata": {
    "ExecuteTime": {
     "end_time": "2024-01-11T11:53:43.094602Z",
     "start_time": "2024-01-11T11:53:43.088519Z"
    },
    "collapsed": false
   },
   "outputs": [],
   "source": [
    "beta_crit = minimize_scalar(lambda x: -interp_susceptibility50(x), bounds=(0.3, 0.7), method='bounded')\n",
    "beta_crit = beta_crit.x\n",
    "kb = 1.380649e-23"
   ]
  },
  {
   "cell_type": "code",
   "execution_count": 76,
   "id": "f9b533cb36128188",
   "metadata": {
    "ExecuteTime": {
     "end_time": "2024-01-11T11:53:43.790279Z",
     "start_time": "2024-01-11T11:53:43.763625Z"
    },
    "collapsed": false
   },
   "outputs": [
    {
     "data": {
      "text/plain": [
       "1.7080732825345923e+23"
      ]
     },
     "execution_count": 76,
     "metadata": {},
     "output_type": "execute_result"
    }
   ],
   "source": [
    "(1 / beta_crit) / kb"
   ]
  },
  {
   "cell_type": "markdown",
   "id": "32d5db8c11583272",
   "metadata": {
    "collapsed": false
   },
   "source": [
    "# Animation"
   ]
  },
  {
   "cell_type": "code",
   "execution_count": 267,
   "id": "6329b925666a27bd",
   "metadata": {
    "collapsed": false
   },
   "outputs": [],
   "source": [
    "N = 400\n",
    "sweeps = 4000\n",
    "beta = 0.57\n",
    "model = Isingmodel(N=N)\n",
    "spin_grid = model.grid(N)\n",
    "energy = model.get_energy(spin_grid)"
   ]
  },
  {
   "cell_type": "code",
   "execution_count": 268,
   "id": "baad0ae7d050efdf",
   "metadata": {
    "collapsed": false
   },
   "outputs": [],
   "source": [
    "animation = model.metropolis(spin_grid, sweeps, beta, energy, N)"
   ]
  },
  {
   "cell_type": "code",
   "execution_count": 269,
   "id": "aaad48e959b5fabc",
   "metadata": {
    "ExecuteTime": {
     "end_time": "2024-01-09T21:05:48.199398Z",
     "start_time": "2024-01-09T21:05:06.338043Z"
    },
    "collapsed": false
   },
   "outputs": [],
   "source": [
    "# model.save(animation, path='/Users/danielmiksch/Downloads/new.gif', display_sweeps=True)"
   ]
  },
  {
   "cell_type": "markdown",
   "id": "2028fee0cbc8a36a",
   "metadata": {
    "collapsed": false
   },
   "source": [
    "# Improvements"
   ]
  },
  {
   "cell_type": "code",
   "execution_count": 55,
   "id": "13a31d0d1dcbd255",
   "metadata": {
    "ExecuteTime": {
     "end_time": "2024-01-11T11:31:05.159249Z",
     "start_time": "2024-01-11T11:30:57.095807Z"
    },
    "collapsed": false
   },
   "outputs": [],
   "source": [
    "N = 300\n",
    "sweeps = 500\n",
    "beta = 0.5\n",
    "model = isingmodel_fast(N=N, init=False)\n",
    "spin_grid = model.grid(N)\n",
    "energy = model.get_energy(spin_grid)\n",
    "animation = model.animation(spin_grid, sweeps, beta, energy, N)\n",
    "model.save(animation, path='/Users/danielmiksch/Downloads/300grid.gif', display_sweeps=True)"
   ]
  }
 ],
 "metadata": {
  "kernelspec": {
   "display_name": "Python 3 (ipykernel)",
   "language": "python",
   "name": "python3"
  },
  "language_info": {
   "codemirror_mode": {
    "name": "ipython",
    "version": 3
   },
   "file_extension": ".py",
   "mimetype": "text/x-python",
   "name": "python",
   "nbconvert_exporter": "python",
   "pygments_lexer": "ipython3",
   "version": "3.10.10"
  }
 },
 "nbformat": 4,
 "nbformat_minor": 5
}
