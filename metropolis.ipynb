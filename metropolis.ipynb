{
 "cells": [
  {
   "cell_type": "code",
   "execution_count": 1,
   "id": "initial_id",
   "metadata": {
    "collapsed": true,
    "ExecuteTime": {
     "end_time": "2024-01-11T01:02:57.182258Z",
     "start_time": "2024-01-11T01:02:56.667087Z"
    }
   },
   "outputs": [],
   "source": [
    "import numba\n",
    "import numpy as np\n",
    "import matplotlib.pyplot as plt\n",
    "from scipy.interpolate import interp1d\n",
    "from scipy.ndimage import convolve, generate_binary_structure\n",
    "import matplotlib.patches as mpatches\n",
    "from scipy.optimize import minimize_scalar\n",
    "from PIL import Image, ImageDraw, ImageFont"
   ]
  },
  {
   "cell_type": "code",
   "execution_count": 126,
   "outputs": [
    {
     "name": "stderr",
     "output_type": "stream",
     "text": [
      "/Users/danielmiksch/miniconda3/envs/juplab/lib/python3.10/site-packages/numba/core/decorators.py:282: RuntimeWarning: nopython is set for njit and is ignored\n",
      "  warnings.warn('nopython is set for njit and is ignored', RuntimeWarning)\n"
     ]
    }
   ],
   "source": [
    "class isingmodel:\n",
    "    def __init__(self, N, J=1):\n",
    "        self.J = J\n",
    "        self.N = N\n",
    "        self.init_random = np.random.random((N, N))\n",
    "        # self.grid_n = np.ones((N, N))\n",
    "        self.grid_n = np.zeros((N, N))\n",
    "        self.grid_n[self.init_random >= .5] = 1\n",
    "        self.grid_n[self.init_random < .5] = -1\n",
    "    \n",
    "    def get_energy(self, grid):\n",
    "        kernel = generate_binary_structure(2, 1)\n",
    "        kernel[1][1] = False\n",
    "        result = - self.J * grid * convolve(grid, kernel, mode='wrap')\n",
    "        return result.sum()\n",
    "    \n",
    "    def grid(self):\n",
    "        return self.grid_n\n",
    "    \n",
    "    @staticmethod\n",
    "    @numba.njit(\"Tuple((f8[:], f8[:], f8[:,:], f8[:]))(f8[:,:], i8, f8, f8, i8)\", nopython=True, nogil=True)\n",
    "    def metropolis(arr_spin, times, beta, energy, N):\n",
    "        arr_spin = arr_spin.copy()\n",
    "        total_spin = np.zeros(times - 1)\n",
    "        total_energy = np.zeros(times - 1)\n",
    "        # norm_variance = np.zeros(times -1)\n",
    "        for t in range(0, times - 1):\n",
    "            x = np.random.randint(0,N)\n",
    "            y = np.random.randint(0,N)\n",
    "            spin_t = arr_spin[x, y]\n",
    "            spin_prime = -spin_t\n",
    "            E_t = 0\n",
    "            E_prime = 0\n",
    "            neighbours = [(x - 1) % N, (x + 1) % N, (y - 1) % N, (y + 1) % N]\n",
    "            for nx in [neighbours[0], neighbours[1]]:\n",
    "                E_t += - spin_t * arr_spin[nx, y]\n",
    "                E_prime += - spin_prime * arr_spin[nx, y]\n",
    "            for ny in [neighbours[2], neighbours[3]]:\n",
    "                E_t += - spin_t * arr_spin[x, ny]\n",
    "                E_prime += - spin_prime * arr_spin[x, ny]\n",
    "            dE = E_prime - E_t\n",
    "            if (dE > 0) & (np.random.random() < np.exp(-beta * dE)):\n",
    "                arr_spin[x, y] = spin_prime\n",
    "                energy += dE\n",
    "            elif dE <= 0:\n",
    "                arr_spin[x, y] = spin_prime\n",
    "                energy += dE\n",
    "            total_spin[t] = arr_spin.sum()\n",
    "            total_energy[t] = energy\n",
    "        mag_squared = total_spin ** 2\n",
    "        \n",
    "        return total_spin, total_energy, arr_spin, mag_squared\n",
    "        \n",
    "    def plot(self, equilibrium, cmap, times, beta, save=False):\n",
    "        fig, ax = plt.subplots(dpi=150)\n",
    "        plt.rcParams[\"font.family\"] = \"times\"\n",
    "        plt.rcParams[\"text.usetex\"] = True\n",
    "        plt.title(fr'{self.N}$\\times${self.N}-lattice after {times:.1e} thermalization steps' + '\\n' + rf'$\\beta={beta}$', fontsize=12, pad=10)\n",
    "        ax.imshow(equilibrium, cmap=cmap, interpolation='none')\n",
    "        white_patch = mpatches.Patch(color='white', label=r'$\\sigma_i=-1$')\n",
    "        black_patch = mpatches.Patch(color='black', label=r'$\\sigma_i=+1$')\n",
    "\n",
    "        legend = ax.legend(handles=[white_patch, black_patch], loc=\"upper right\", bbox_to_anchor=(1.4, 1.02), fancybox=False, edgecolor='black', fontsize=12, facecolor='whitesmoke')\n",
    "        legend.set_zorder(10)\n",
    "        legend.get_frame().set_linewidth(0.5)\n",
    "        plt.show()\n",
    "        if save:\n",
    "            fig.tight_layout()\n",
    "            fig.savefig(f\"/Users/danielmiksch/Downloads/{self.N}by{self.N}_grid.png\")\n",
    "            \n",
    "    def magnetization(self, spins):\n",
    "        return spins / self.N ** 2\n",
    "    \n",
    "    def print_energy(self):\n",
    "        print(self.get_energy(self.grid_n))"
   ],
   "metadata": {
    "collapsed": false,
    "ExecuteTime": {
     "end_time": "2024-01-11T00:42:07.154019Z",
     "start_time": "2024-01-11T00:42:06.949055Z"
    }
   },
   "id": "f91d684baf53a881"
  },
  {
   "cell_type": "markdown",
   "source": [
    "# a)\n",
    "$50\\times 50$-grid after $10\\,000\\cdot 50^2$ thermalization updates at $\\beta=0.45$. The lattice is being initialized to the ferromagnetic ground state, i.e. all spins are equal to one."
   ],
   "metadata": {
    "collapsed": false
   },
   "id": "9a08cfeb73c2abd2"
  },
  {
   "cell_type": "code",
   "execution_count": 131,
   "outputs": [],
   "source": [
    "N = 200\n",
    "steps = 10e6\n",
    "beta = 0.4\n",
    "model = isingmodel(N=N)\n",
    "spin_grid = model.grid()\n",
    "energy = model.get_energy(spin_grid)"
   ],
   "metadata": {
    "collapsed": false,
    "ExecuteTime": {
     "end_time": "2024-01-09T10:32:31.368010Z",
     "start_time": "2024-01-09T10:32:31.360885Z"
    }
   },
   "id": "7fb1bc0527ac6a0"
  },
  {
   "cell_type": "code",
   "execution_count": 132,
   "outputs": [],
   "source": [
    "spins50, energies50, equilibrium50, variance50 = model.metropolis(spin_grid, steps, beta, energy, N)"
   ],
   "metadata": {
    "collapsed": false,
    "ExecuteTime": {
     "end_time": "2024-01-09T10:38:48.122558Z",
     "start_time": "2024-01-09T10:32:32.188766Z"
    }
   },
   "id": "c07af197310bf9c7"
  },
  {
   "cell_type": "code",
   "execution_count": 133,
   "outputs": [
    {
     "data": {
      "text/plain": "<Figure size 960x720 with 1 Axes>",
      "image/png": "[encoded data removed]"
     },
     "metadata": {},
     "output_type": "display_data"
    }
   ],
   "source": [
    "model.plot(equilibrium=equilibrium50, cmap='binary', times=steps, beta=beta, save=True)"
   ],
   "metadata": {
    "collapsed": false,
    "ExecuteTime": {
     "end_time": "2024-01-09T10:39:11.241915Z",
     "start_time": "2024-01-09T10:39:10.401538Z"
    }
   },
   "id": "68f681d8ca7ee490"
  },
  {
   "cell_type": "markdown",
   "source": [
    "# c)\n",
    "The following code calculates the magnetisation with the metropolis algorithm for $N=20$ and $N=50$ on an interval of $\\beta\\in [0.3,0.7]$. To avoid fluctuation of the magnetization, the last $500\\cdot N^2$ measurements are averaged.\n",
    "The results of this computation are shown in the figure below. As one can see, the magnetization curve of the $50\\times 50$-lattice are much smoother than the one of the $20\\times 20$-lattice.\n",
    "One reason for this is the size of the selected system. In most thermodynamic systems, the assumption is made that the system is infinite. A larger lattice has more spins that can interact. This leads to a larger number of microstates that determine the macro behavior of the system.\n",
    "This results in fewer statistical fluctuations of the observables and thus a smoother magnetization curve."
   ],
   "metadata": {
    "collapsed": false
   },
   "id": "a849d2ca8d96d022"
  },
  {
   "cell_type": "code",
   "execution_count": 123,
   "outputs": [],
   "source": [
    "betas = np.linspace(0.3, 0.7, 20)\n",
    "N = [20, 50]\n",
    "steps = [10000 * i**2 for i in N]\n",
    "sweeps = [500 * i**2 for i in N]"
   ],
   "metadata": {
    "collapsed": false,
    "ExecuteTime": {
     "end_time": "2024-01-11T00:41:56.052255Z",
     "start_time": "2024-01-11T00:41:56.039681Z"
    }
   },
   "id": "c5f57602b87ce4fe"
  },
  {
   "cell_type": "code",
   "execution_count": null,
   "outputs": [],
   "source": [
    "def get_magnetization(N, betas, sweeps):\n",
    "    magnetization_list = np.zeros((len(N), len(betas)))\n",
    "    for index1, i in enumerate(N):\n",
    "        magnetization = np.zeros(len(betas))\n",
    "        model = isingmodel(N=i)\n",
    "        spin_grid = model.grid()\n",
    "        energy = model.get_energy(spin_grid)\n",
    "        for index2, s in enumerate(betas):\n",
    "            spins, energies, equilibrium, variance = model.metropolis_fast(spin_grid, steps[index1], s, energy, i)\n",
    "            magnetization[index2] = spins[-sweeps[index1]:].mean() / i**2\n",
    "        magnetization_list[index1] = magnetization\n",
    "            \n",
    "    return magnetization_list"
   ],
   "metadata": {
    "collapsed": false
   },
   "id": "30b0343f50b2db74"
  },
  {
   "cell_type": "code",
   "execution_count": null,
   "outputs": [],
   "source": [
    "magnetization = get_magnetization(N, betas, sweeps)\n",
    "magnetization"
   ],
   "metadata": {
    "collapsed": false,
    "ExecuteTime": {
     "start_time": "2024-01-11T00:42:14.997155Z"
    }
   },
   "id": "9f12052a511f4a05"
  },
  {
   "cell_type": "code",
   "execution_count": 102,
   "outputs": [
    {
     "data": {
      "text/plain": "<Figure size 640x480 with 1 Axes>",
      "image/png": "[encoded data removed]"
     },
     "metadata": {},
     "output_type": "display_data"
    }
   ],
   "source": [
    "fig, ax = plt.subplots()\n",
    "\n",
    "ax.plot(1 / betas, abs(magnetization[0]), 'o--', c='blue', label=r'$20\\times20$-lattice')\n",
    "ax.plot(1 / betas, abs(magnetization[1]), 'o--', c='red', label=r'$50\\times50$-lattice')\n",
    "ax.axhline(0, c='grey', linewidth=.8)\n",
    "ax.set_xlabel(r'$1/\\beta$')\n",
    "ax.set_ylabel(r'Magnetization $\\langle M\\rangle$')\n",
    "plt.title('Magnetization of different lattices', fontsize=12, pad=10)\n",
    "\n",
    "legend = ax.legend(loc=\"upper right\", bbox_to_anchor=(0.92, 0.92), fancybox=False, edgecolor='black', fontsize=12)\n",
    "legend.set_zorder(10)\n",
    "legend.get_frame().set_linewidth(0.5)\n",
    "\n",
    "plt.show()\n",
    "\n",
    "# fig.savefig(f\"/Users/danielmiksch/Downloads/magnetization.pdf\")"
   ],
   "metadata": {
    "collapsed": false,
    "ExecuteTime": {
     "end_time": "2024-01-08T20:32:02.103892Z",
     "start_time": "2024-01-08T20:32:01.819798Z"
    }
   },
   "id": "6256f0442372a38f"
  },
  {
   "cell_type": "code",
   "execution_count": null,
   "outputs": [],
   "source": [
    "# fig, axes = plt.subplots(1, 2, figsize=(12,4))\n",
    "# \n",
    "# plt.rcParams[\"font.family\"] = \"times\"\n",
    "# plt.rcParams[\"text.usetex\"] = True\n",
    "# \n",
    "# ax = axes[0]\n",
    "# ax.plot(spins/50**2)\n",
    "# ax.set_xlabel('Algorithm Time Steps')\n",
    "# ax.set_ylabel(r'Magnetization $\\langle M\\rangle$')\n",
    "# ax.grid()\n",
    "# ax = axes[1]\n",
    "# ax.plot(energies)\n",
    "# ax.set_xlabel('Algorithm Time Steps')\n",
    "# ax.set_ylabel(r'Energy $E$')\n",
    "# ax.grid()\n",
    "# fig.tight_layout()\n",
    "# fig.suptitle(r'Evolution of Average Spin and Energy', y=1.07, size=18)\n",
    "# plt.show()"
   ],
   "metadata": {
    "collapsed": false,
    "ExecuteTime": {
     "start_time": "2024-01-08T01:30:59.792042Z"
    }
   },
   "id": "f12b95d42bdfbd17"
  },
  {
   "cell_type": "markdown",
   "source": [
    "# d)\n",
    "This part of the code calculates the variance of the magnetization (or spins). The calculations are performed according to the following formula:\n",
    "\\begin{equation}\n",
    "\\operatorname{Var}\\left(M\\right)=\\left\\langle M^2\\right\\rangle-\\left\\langle M\\right\\rangle^2 \\quad \\text{with}\\quad M=\\sum_{i} \\sigma_i\n",
    "\\end{equation}\n",
    "The variance is then being normalized with the factor $\\beta/N^2$, wich gives us the susceptibility $\\chi$:\n",
    "\\begin{equation}\n",
    "\\chi=\\frac{\\beta}{N^2}\\left(\\left\\langle M^2\\right\\rangle-\\left\\langle M\\right\\rangle^2\\right)\n",
    "\\end{equation}\n",
    "Numerous sweep passes ($600\\cdot N^2$) are also used here to minimize the fluctuations of the observables.\n",
    "As one can see, the calculations with the bigger lattice, i.e. 50 by 50, allows much more precise statements to be made about the susceptibility curve and the critical temperature than with the smaller grid."
   ],
   "metadata": {
    "collapsed": false
   },
   "id": "2398a6a61f295b21"
  },
  {
   "cell_type": "code",
   "execution_count": 103,
   "outputs": [],
   "source": [
    "betas = np.linspace(0.3, 0.7, 20)\n",
    "N = [20, 50]\n",
    "steps = [10000 * i ** 2 for i in N]\n",
    "sweeps = [600 * i ** 2 for i in N]"
   ],
   "metadata": {
    "collapsed": false,
    "ExecuteTime": {
     "end_time": "2024-01-08T20:32:43.519985Z",
     "start_time": "2024-01-08T20:32:43.512042Z"
    }
   },
   "id": "79a89b544a3f3942"
  },
  {
   "cell_type": "code",
   "execution_count": 104,
   "outputs": [],
   "source": [
    "def get_susceptibility(N, betas, sweeps):\n",
    "    variance_list = np.zeros((len(N), len(betas)))\n",
    "    for index1, i in enumerate(N):\n",
    "        variance = np.zeros(len(betas))\n",
    "        model = isingmodel(N=i)\n",
    "        spin_grid = model.grid()\n",
    "        energy = model.get_energy(spin_grid)\n",
    "        for index2, s in enumerate(betas):\n",
    "            spins, energies, equilibrium, mag_squared = model.metropolis(spin_grid, steps[index1], s, energy, i)\n",
    "            variance[index2] = beta * (mag_squared[-sweeps[index1]:].mean() - spins[-sweeps[index1]:].mean() ** 2) / i**2\n",
    "        variance_list[index1] = variance\n",
    "\n",
    "    return variance_list"
   ],
   "metadata": {
    "collapsed": false,
    "ExecuteTime": {
     "end_time": "2024-01-08T20:32:44.633707Z",
     "start_time": "2024-01-08T20:32:44.627802Z"
    }
   },
   "id": "2f88024e0134a16f"
  },
  {
   "cell_type": "code",
   "execution_count": 105,
   "outputs": [],
   "source": [
    "variance = get_susceptibility(N, betas, sweeps)"
   ],
   "metadata": {
    "collapsed": false,
    "ExecuteTime": {
     "end_time": "2024-01-08T20:53:25.177681Z",
     "start_time": "2024-01-08T20:32:48.335465Z"
    }
   },
   "id": "847f0c7e3e918aab"
  },
  {
   "cell_type": "code",
   "execution_count": 129,
   "outputs": [
    {
     "data": {
      "text/plain": "array([[4.23637318e+00, 6.48776817e+00, 9.21784376e+00, 2.02425153e+01,\n        1.92234617e+01, 1.87984785e+01, 7.40000379e+00, 5.29998396e+00,\n        1.17735125e+00, 1.44203712e+00, 2.42426470e-01, 2.02178901e-01,\n        1.26060607e-01, 1.23729902e-01, 5.06868538e-02, 6.12197150e-02,\n        4.47886637e-02, 3.49408299e-02, 1.94462317e-02, 1.69449796e-02],\n       [5.47339810e+00, 6.80279635e+00, 8.78538560e+00, 1.09256116e+01,\n        1.41011402e+01, 4.31103823e+01, 2.08770825e+02, 1.46301852e+01,\n        2.36193879e+00, 6.90456768e-01, 2.90349619e-01, 2.52328388e-01,\n        1.63122408e-01, 1.13570352e-01, 6.45294475e-02, 4.80211902e-02,\n        4.15942776e-02, 2.95113955e-02, 2.49789672e-02, 1.99977009e-02]])"
     },
     "execution_count": 129,
     "metadata": {},
     "output_type": "execute_result"
    }
   ],
   "source": [
    "variance"
   ],
   "metadata": {
    "collapsed": false,
    "ExecuteTime": {
     "end_time": "2024-01-08T15:57:45.317469Z",
     "start_time": "2024-01-08T15:57:45.300992Z"
    }
   },
   "id": "b6855650f81be9fa"
  },
  {
   "cell_type": "code",
   "execution_count": 16,
   "outputs": [],
   "source": [
    "def log_interp1d(xx, yy, kind='quadratic'):\n",
    "    logx = np.log10(xx)\n",
    "    logy = np.log10(yy)\n",
    "    lin_interp = interp1d(logx, logy, kind=kind)\n",
    "    log_interp = lambda zz: np.power(10.0, lin_interp(np.log10(zz)))\n",
    "    return log_interp"
   ],
   "metadata": {
    "collapsed": false,
    "ExecuteTime": {
     "end_time": "2024-01-10T20:11:36.898701Z",
     "start_time": "2024-01-10T20:11:36.878600Z"
    }
   },
   "id": "cfd8d3c05dc490f3"
  },
  {
   "cell_type": "code",
   "execution_count": 108,
   "outputs": [],
   "source": [
    "interp_variance50 = log_interp1d(betas, variance[1])\n",
    "interp_variance20 = log_interp1d(betas, variance[0])"
   ],
   "metadata": {
    "collapsed": false,
    "ExecuteTime": {
     "end_time": "2024-01-08T20:55:12.199384Z",
     "start_time": "2024-01-08T20:55:12.192960Z"
    }
   },
   "id": "f6e5c158df0e4218"
  },
  {
   "cell_type": "code",
   "execution_count": 109,
   "outputs": [
    {
     "data": {
      "text/plain": "<Figure size 640x480 with 1 Axes>",
      "image/png": "[encoded data removed]"
     },
     "metadata": {},
     "output_type": "display_data"
    }
   ],
   "source": [
    "fig, ax = plt.subplots()\n",
    "\n",
    "x = np.linspace(0.3, 0.7, 1000)\n",
    "\n",
    "ax.plot(1 / x, interp_variance50(x),\n",
    "         c='red',\n",
    "         linewidth=.8,\n",
    "         label='',\n",
    "         zorder=2)\n",
    "ax.plot(1 / x, interp_variance20(x),\n",
    "         c='blue',\n",
    "         linewidth=.8,\n",
    "         label='',\n",
    "         zorder=2)\n",
    "ax.scatter(1 / betas, variance[0], label=r'$20\\times20$-lattice', marker='.', s=80, edgecolors='none', color='blue')\n",
    "ax.scatter(1 / betas, variance[1], label=r'$50\\times50$-lattice', marker='.', s=80, edgecolors='none', color='red')\n",
    "ax.set_yscale('log')\n",
    "\n",
    "ax.set_xlabel(r'$1/\\beta$')\n",
    "ax.set_ylabel(r'Susceptibility $\\chi$')\n",
    "plt.title('Susceptibility of different lattices of the ising model', fontsize=12, pad=10)\n",
    "\n",
    "legend = ax.legend(loc=\"upper right\", bbox_to_anchor=(0.9, 0.4), fancybox=False, edgecolor='black', fontsize=12)\n",
    "legend.set_zorder(10)\n",
    "legend.get_frame().set_linewidth(0.5)\n",
    "\n",
    "plt.show()\n",
    "\n",
    "# fig.savefig(f\"/Users/danielmiksch/Downloads/susceptibility.pdf\")"
   ],
   "metadata": {
    "collapsed": false,
    "ExecuteTime": {
     "end_time": "2024-01-08T20:55:16.750734Z",
     "start_time": "2024-01-08T20:55:16.309184Z"
    }
   },
   "id": "c526ebc47b0a24fd"
  },
  {
   "cell_type": "markdown",
   "source": [
    "# e)"
   ],
   "metadata": {
    "collapsed": false
   },
   "id": "34a3215ac3f8d519"
  },
  {
   "cell_type": "code",
   "execution_count": 122,
   "outputs": [],
   "source": [
    "susceptibility = np.array([[4.23637318e+00, 6.48776817e+00, 9.21784376e+00, 2.02425153e+01,\n",
    "        1.92234617e+01, 1.87984785e+01, 7.40000379e+00, 5.29998396e+00,\n",
    "        1.17735125e+00, 1.44203712e+00, 2.42426470e-01, 2.02178901e-01,\n",
    "        1.26060607e-01, 1.23729902e-01, 5.06868538e-02, 6.12197150e-02,\n",
    "        4.47886637e-02, 3.49408299e-02, 1.94462317e-02, 1.69449796e-02],\n",
    "       [5.47339810e+00, 6.80279635e+00, 8.78538560e+00, 1.09256116e+01,\n",
    "        1.41011402e+01, 4.31103823e+01, 2.08770825e+02, 1.46301852e+01,\n",
    "        2.36193879e+00, 6.90456768e-01, 2.90349619e-01, 2.52328388e-01,\n",
    "        1.63122408e-01, 1.13570352e-01, 6.45294475e-02, 4.80211902e-02,\n",
    "        4.15942776e-02, 2.95113955e-02, 2.49789672e-02, 1.99977009e-02]])"
   ],
   "metadata": {
    "collapsed": false,
    "ExecuteTime": {
     "end_time": "2024-01-08T21:09:42.669421Z",
     "start_time": "2024-01-08T21:09:42.652103Z"
    }
   },
   "id": "1a2edcc2d940172f"
  },
  {
   "cell_type": "code",
   "execution_count": 123,
   "outputs": [],
   "source": [
    "interp_susceptibility50 = log_interp1d(betas, susceptibility[1])"
   ],
   "metadata": {
    "collapsed": false,
    "ExecuteTime": {
     "end_time": "2024-01-08T21:09:42.826318Z",
     "start_time": "2024-01-08T21:09:42.818751Z"
    }
   },
   "id": "9be6ade5fea56763"
  },
  {
   "cell_type": "code",
   "execution_count": 124,
   "outputs": [],
   "source": [
    "beta_crit = minimize_scalar(lambda x: -interp_susceptibility50(x), bounds=(0.3, 0.7), method='bounded')\n",
    "beta_crit = beta_crit.x\n",
    "kb = 1.380649e-23"
   ],
   "metadata": {
    "collapsed": false,
    "ExecuteTime": {
     "end_time": "2024-01-08T21:09:42.994952Z",
     "start_time": "2024-01-08T21:09:42.990507Z"
    }
   },
   "id": "6b58298f909ba311"
  },
  {
   "cell_type": "code",
   "execution_count": 125,
   "outputs": [
    {
     "data": {
      "text/plain": "1.7080732825345923e+23"
     },
     "execution_count": 125,
     "metadata": {},
     "output_type": "execute_result"
    }
   ],
   "source": [
    "(1 / beta_crit) / kb"
   ],
   "metadata": {
    "collapsed": false,
    "ExecuteTime": {
     "end_time": "2024-01-08T21:09:43.837507Z",
     "start_time": "2024-01-08T21:09:43.801049Z"
    }
   },
   "id": "f9b533cb36128188"
  },
  {
   "cell_type": "code",
   "execution_count": 137,
   "outputs": [],
   "source": [
    "N = 200\n",
    "steps = 5e6\n",
    "beta = 0.66\n",
    "model = isingmodel(N=N)\n",
    "spin_grid = model.grid()\n",
    "energy = model.get_energy(spin_grid)"
   ],
   "metadata": {
    "collapsed": false,
    "ExecuteTime": {
     "end_time": "2024-01-09T10:51:30.146143Z",
     "start_time": "2024-01-09T10:51:30.136563Z"
    }
   },
   "id": "6ca3756fba963dc4"
  },
  {
   "cell_type": "code",
   "execution_count": null,
   "outputs": [],
   "source": [
    "animation200 = model.metropolis_animation(spin_grid, steps, beta, energy, N)"
   ],
   "metadata": {
    "collapsed": false,
    "ExecuteTime": {
     "start_time": "2024-01-09T10:51:32.015517Z"
    }
   },
   "id": "1e8f02438878c6c3"
  },
  {
   "cell_type": "markdown",
   "source": [
    "# Animation class"
   ],
   "metadata": {
    "collapsed": false
   },
   "id": "32d5db8c11583272"
  },
  {
   "cell_type": "code",
   "execution_count": 263,
   "outputs": [
    {
     "name": "stderr",
     "output_type": "stream",
     "text": [
      "/Users/danielmiksch/miniconda3/envs/juplab/lib/python3.10/site-packages/numba/core/decorators.py:282: RuntimeWarning: nopython is set for njit and is ignored\n",
      "  warnings.warn('nopython is set for njit and is ignored', RuntimeWarning)\n"
     ]
    }
   ],
   "source": [
    "class isinganimation:\n",
    "    def __init__(self, N, J=1):\n",
    "        self.J = J\n",
    "        self.N = N\n",
    "        self.init_random = np.random.random((N, N))\n",
    "        # self.grid_n = np.ones((N, N))\n",
    "        self.grid_n = np.zeros((N, N))\n",
    "        self.grid_n[self.init_random >= .5] = 1\n",
    "        self.grid_n[self.init_random < .5] = -1\n",
    "        \n",
    "    def get_energy(self, grid):\n",
    "        kernel = generate_binary_structure(2, 1)\n",
    "        kernel[1][1] = False\n",
    "        result = - self.J * grid * convolve(grid, kernel, mode='wrap')\n",
    "        return result.sum()\n",
    "    \n",
    "    def grid(self):\n",
    "        return self.grid_n\n",
    "    \n",
    "    @staticmethod\n",
    "    @numba.njit(\"f8[:,:,:](f8[:,:], i8, f8, f8, i8)\", nopython=True, nogil=True)\n",
    "    def metropolis(arr_spin, sweeps, beta, energy, N):\n",
    "        times = sweeps * N ** 2\n",
    "        arr_spin = arr_spin.copy()\n",
    "        animation_arr = np.zeros((sweeps, N, N))\n",
    "        for t in range(0, times - 1):\n",
    "            x = np.random.randint(0,N)\n",
    "            y = np.random.randint(0,N)\n",
    "            spin_t = arr_spin[x, y]\n",
    "            spin_prime = -spin_t\n",
    "            E_t = 0\n",
    "            E_prime = 0\n",
    "            neighbours = [(x - 1) % N, (x + 1) % N, (y - 1) % N, (y + 1) % N]\n",
    "            for nx in [neighbours[0], neighbours[1]]:\n",
    "                E_t += - spin_t * arr_spin[nx, y]\n",
    "                E_prime += - spin_prime * arr_spin[nx, y]\n",
    "            for ny in [neighbours[2], neighbours[3]]:\n",
    "                E_t += - spin_t * arr_spin[x, ny]\n",
    "                E_prime += - spin_prime * arr_spin[x, ny]\n",
    "            dE = E_prime - E_t\n",
    "            if (dE > 0) & (np.random.random() < np.exp(-beta * dE)):\n",
    "                arr_spin[x, y] = spin_prime\n",
    "                energy += dE\n",
    "            elif dE <= 0:\n",
    "                arr_spin[x, y] = spin_prime\n",
    "                energy += dE\n",
    "                \n",
    "            if t % (N ** 2) == 0:\n",
    "                animation_arr[t // (N ** 2)] = arr_spin.copy()\n",
    "                \n",
    "        return animation_arr\n",
    "    \n",
    "    def save(self, frame_array, path, display_sweeps=True):\n",
    "        pil_frames = []\n",
    "        for i, frame in enumerate(frame_array):\n",
    "            img = Image.fromarray(np.uint8(frame))\n",
    "            b, _ = img.size\n",
    "            if img.mode != 'RGB':\n",
    "                img = img.convert('RGB')\n",
    "            draw = ImageDraw.Draw(img)\n",
    "            if display_sweeps:\n",
    "                text = f\"Sweeps: {i}\"\n",
    "                font = ImageFont.truetype(\"/Library/Fonts/Arial Unicode.ttf\", 20)\n",
    "                draw.text((b // 2, 10), text, fill=\"red\", font=font, anchor='mt')\n",
    "            pil_frames.append(img)\n",
    "                \n",
    "        first_image = pil_frames[0]\n",
    "        first_image.save(path, format='GIF', append_images=pil_frames[1:], save_all=True, duration=20, loop=0)"
   ],
   "metadata": {
    "collapsed": false,
    "ExecuteTime": {
     "end_time": "2024-01-09T21:02:43.786364Z",
     "start_time": "2024-01-09T21:02:43.564337Z"
    }
   },
   "id": "470c5ed60fa5af3b"
  },
  {
   "cell_type": "code",
   "execution_count": 267,
   "outputs": [],
   "source": [
    "N = 400\n",
    "sweeps = 4000\n",
    "beta = 0.57\n",
    "model = isinganimation(N=N)\n",
    "spin_grid = model.grid()\n",
    "energy = model.get_energy(spin_grid)"
   ],
   "metadata": {
    "collapsed": false,
    "ExecuteTime": {
     "end_time": "2024-01-09T21:04:08.881558Z",
     "start_time": "2024-01-09T21:04:08.862019Z"
    }
   },
   "id": "6329b925666a27bd"
  },
  {
   "cell_type": "code",
   "execution_count": 268,
   "outputs": [],
   "source": [
    "animation = model.metropolis(spin_grid, sweeps, beta, energy, N)"
   ],
   "metadata": {
    "collapsed": false,
    "ExecuteTime": {
     "end_time": "2024-01-09T21:05:01.981497Z",
     "start_time": "2024-01-09T21:04:09.789572Z"
    }
   },
   "id": "baad0ae7d050efdf"
  },
  {
   "cell_type": "code",
   "execution_count": 269,
   "outputs": [],
   "source": [
    "model.save(animation, path='/Users/danielmiksch/Downloads/new.gif', display_sweeps=True)"
   ],
   "metadata": {
    "collapsed": false,
    "ExecuteTime": {
     "end_time": "2024-01-09T21:05:48.199398Z",
     "start_time": "2024-01-09T21:05:06.338043Z"
    }
   },
   "id": "aaad48e959b5fabc"
  },
  {
   "cell_type": "markdown",
   "source": [
    "# Improvements"
   ],
   "metadata": {
    "collapsed": false
   },
   "id": "2028fee0cbc8a36a"
  },
  {
   "cell_type": "code",
   "execution_count": 53,
   "outputs": [
    {
     "name": "stderr",
     "output_type": "stream",
     "text": [
      "/Users/danielmiksch/miniconda3/envs/juplab/lib/python3.10/site-packages/numba/core/decorators.py:282: RuntimeWarning: nopython is set for njit and is ignored\n",
      "  warnings.warn('nopython is set for njit and is ignored', RuntimeWarning)\n",
      "/Users/danielmiksch/miniconda3/envs/juplab/lib/python3.10/site-packages/numba/core/decorators.py:282: RuntimeWarning: nopython is set for njit and is ignored\n",
      "  warnings.warn('nopython is set for njit and is ignored', RuntimeWarning)\n"
     ]
    }
   ],
   "source": [
    "class isingmodel_fast:\n",
    "    def __init__(self, N=50, J=1, init=True):\n",
    "        self.J = J\n",
    "        self.N = N\n",
    "        self.init = init\n",
    "    \n",
    "    def grid(self, N):\n",
    "        init_random = np.random.random((N, N))\n",
    "        if self.init:\n",
    "            grid_n = np.ones((N, N))\n",
    "        else:\n",
    "            grid_n = np.zeros((N, N))\n",
    "            grid_n[init_random >= .5] = 1\n",
    "            grid_n[init_random < .5] = -1\n",
    "        return grid_n\n",
    "    \n",
    "    def get_energy(self, grid):\n",
    "        kernel = generate_binary_structure(2, 1)\n",
    "        kernel[1][1] = False\n",
    "        result = - self.J * grid * convolve(grid, kernel, mode='wrap')\n",
    "        return result.sum()\n",
    "    \n",
    "    \n",
    "    \n",
    "    @staticmethod\n",
    "    @numba.njit(\"Tuple((f8[:], f8[:], f8[:,:], f8[:]))(f8[:,:], i8, f8, f8, i8)\", nopython=True, nogil=True)\n",
    "    def metropolis(arr_spin, sweeps, beta, energy, N):\n",
    "        times = sweeps * N ** 2\n",
    "        arr_spin = arr_spin.copy()\n",
    "        total_spin = np.zeros(sweeps)\n",
    "        total_energy = np.zeros(sweeps)\n",
    "        for t in range(0, times - 1):\n",
    "            x = np.random.randint(0,N)\n",
    "            y = np.random.randint(0,N)\n",
    "            spin_t = arr_spin[x, y]\n",
    "            spin_prime = -spin_t\n",
    "            E_t = 0\n",
    "            E_prime = 0\n",
    "            neighbours = [(x - 1) % N, (x + 1) % N, (y - 1) % N, (y + 1) % N]\n",
    "            for nx in [neighbours[0], neighbours[1]]:\n",
    "                E_t += - spin_t * arr_spin[nx, y]\n",
    "                E_prime += - spin_prime * arr_spin[nx, y]\n",
    "            for ny in [neighbours[2], neighbours[3]]:\n",
    "                E_t += - spin_t * arr_spin[x, ny]\n",
    "                E_prime += - spin_prime * arr_spin[x, ny]\n",
    "            dE = E_prime - E_t\n",
    "            if (dE > 0) & (np.random.random() < np.exp(-beta * dE)):\n",
    "                arr_spin[x, y] = spin_prime\n",
    "                energy += dE\n",
    "            elif dE <= 0:\n",
    "                arr_spin[x, y] = spin_prime\n",
    "                energy += dE\n",
    "                \n",
    "            if t % (N ** 2) == 0:\n",
    "                total_spin[t // (N ** 2)] = arr_spin.sum()\n",
    "                total_energy[t // (N ** 2)] = energy\n",
    "        mag_squared = total_spin ** 2\n",
    "        \n",
    "        return total_spin, total_energy, arr_spin, mag_squared\n",
    "        \n",
    "    def plot(self, equilibrium, cmap, times, beta, save=False):\n",
    "        fig, ax = plt.subplots(dpi=150)\n",
    "        plt.rcParams[\"font.family\"] = \"times\"\n",
    "        plt.rcParams[\"text.usetex\"] = True\n",
    "        plt.title(fr'{self.N}$\\times${self.N}-lattice after {times:.1e} sweeps ($N^2$ updates)' + '\\n' + rf'$\\beta={beta}$', fontsize=12, pad=10)\n",
    "        ax.imshow(equilibrium, cmap=cmap, interpolation='none')\n",
    "        white_patch = mpatches.Patch(color='white', label=r'$\\sigma_i=-1$')\n",
    "        black_patch = mpatches.Patch(color='black', label=r'$\\sigma_i=+1$')\n",
    "\n",
    "        legend = ax.legend(handles=[white_patch, black_patch], loc=\"upper right\", bbox_to_anchor=(1.4, 1.02), fancybox=False, edgecolor='black', fontsize=12, facecolor='whitesmoke')\n",
    "        legend.set_zorder(10)\n",
    "        legend.get_frame().set_linewidth(0.5)\n",
    "        plt.show()\n",
    "        if save:\n",
    "            fig.tight_layout()\n",
    "            fig.savefig(f\"/Users/danielmiksch/Downloads/{self.N}by{self.N}_grid.png\")\n",
    "            \n",
    "    @staticmethod\n",
    "    @numba.njit(\"f8[:,:,:](f8[:,:], i8, f8, f8, i8)\", nopython=True, nogil=True)\n",
    "    def animation(arr_spin, sweeps, beta, energy, N):\n",
    "        times = sweeps * N ** 2\n",
    "        arr_spin = arr_spin.copy()\n",
    "        animation_arr = np.zeros((sweeps, N, N))\n",
    "        for t in range(0, times - 1):\n",
    "            x = np.random.randint(0,N)\n",
    "            y = np.random.randint(0,N)\n",
    "            spin_t = arr_spin[x, y]\n",
    "            spin_prime = -spin_t\n",
    "            E_t = 0\n",
    "            E_prime = 0\n",
    "            neighbours = [(x - 1) % N, (x + 1) % N, (y - 1) % N, (y + 1) % N]\n",
    "            for nx in [neighbours[0], neighbours[1]]:\n",
    "                E_t += - spin_t * arr_spin[nx, y]\n",
    "                E_prime += - spin_prime * arr_spin[nx, y]\n",
    "            for ny in [neighbours[2], neighbours[3]]:\n",
    "                E_t += - spin_t * arr_spin[x, ny]\n",
    "                E_prime += - spin_prime * arr_spin[x, ny]\n",
    "            dE = E_prime - E_t\n",
    "            if (dE > 0) & (np.random.random() < np.exp(-beta * dE)):\n",
    "                arr_spin[x, y] = spin_prime\n",
    "                energy += dE\n",
    "            elif dE <= 0:\n",
    "                arr_spin[x, y] = spin_prime\n",
    "                energy += dE\n",
    "                \n",
    "            if t % (N ** 2) == 0:\n",
    "                animation_arr[t // (N ** 2)] = arr_spin.copy()\n",
    "                \n",
    "        return animation_arr\n",
    "    \n",
    "    def save(self, frame_array, path, display_sweeps=True):\n",
    "        pil_frames = []\n",
    "        for i, frame in enumerate(frame_array):\n",
    "            img = Image.fromarray(np.uint8(frame))\n",
    "            b, _ = img.size\n",
    "            if img.mode != 'RGB':\n",
    "                img = img.convert('RGB')\n",
    "            draw = ImageDraw.Draw(img)\n",
    "            if display_sweeps:\n",
    "                text = f\"Sweeps: {i}\"\n",
    "                font = ImageFont.truetype(\"/Library/Fonts/Arial Unicode.ttf\", 20)\n",
    "                draw.text((b // 2, 10), text, fill=\"red\", font=font, anchor='mt')\n",
    "            pil_frames.append(img)\n",
    "                \n",
    "        first_image = pil_frames[0]\n",
    "        first_image.save(path, format='GIF', append_images=pil_frames[1:], save_all=True, duration=20, loop=0)\n",
    "            \n",
    "    def magnetization(self, spins):\n",
    "        return spins / self.N ** 2\n",
    "    \n",
    "    def print_energy(self):\n",
    "        print(self.get_energy(self.grid(self.N)))\n",
    "        \n",
    "\n",
    "    def get_magnetization(self, N_array, betas, steps, sweeps, iterations):\n",
    "        magnetization_list = np.zeros((iterations * len(N), len(betas)))\n",
    "        list_index = 0\n",
    "        for t in range(0, iterations):\n",
    "            for index1, i in enumerate(N_array):\n",
    "                magnetization = np.zeros(len(betas))\n",
    "                for index2, s in enumerate(betas):\n",
    "                    spins, energies, equilibrium, mag_squared = self.metropolis(self.grid(i), steps[index1], s, self.get_energy(self.grid(i)), i)\n",
    "                    magnetization[index2] = spins[-sweeps[index1]:].mean() / i ** 2\n",
    "                magnetization_list[list_index] = magnetization\n",
    "                list_index += 1\n",
    "        magnetization_avg = np.zeros((len(N_array), len(betas)))\n",
    "        for i in range(0, len(N_array)):\n",
    "            group = range(i, len(magnetization_list), len(N_array))\n",
    "            magnetization_avg[i] = np.mean(magnetization_list[group, :], axis=0)\n",
    "        return magnetization_avg\n",
    "    \n",
    "    def get_susceptibility(self, N_array, betas, steps ,sweeps, iterations):\n",
    "        variance_list = np.zeros((iterations * len(N), len(betas)))\n",
    "        list_index = 0\n",
    "        for t in range(0, iterations):\n",
    "            for index1, i in enumerate(N_array):\n",
    "                variance = np.zeros(len(betas))\n",
    "                for index2, s in enumerate(betas):\n",
    "                    spins, energies, equilibrium, mag_squared = self.metropolis(self.grid(i), steps[index1], s, self.get_energy(self.grid(i)), i)\n",
    "                    variance[index2] = s * (mag_squared[-sweeps[index1]:].mean() - spins[-sweeps[index1]:].mean() ** 2) / i**2\n",
    "                variance_list[list_index] = variance\n",
    "                list_index += 1\n",
    "        variance_avg = np.zeros((len(N_array), len(betas)))\n",
    "        for i in range(0, len(N_array)):\n",
    "            group = range(i, len(variance_list), len(N_array))\n",
    "            variance_avg[i] = np.mean(variance_list[group, :], axis=0)\n",
    "        return variance_avg"
   ],
   "metadata": {
    "collapsed": false,
    "ExecuteTime": {
     "end_time": "2024-01-11T11:26:34.617757Z",
     "start_time": "2024-01-11T11:26:34.118940Z"
    }
   },
   "id": "6dd57754186c69d9"
  },
  {
   "cell_type": "code",
   "execution_count": 48,
   "outputs": [],
   "source": [
    "betas = np.linspace(0.3, 0.7, 20)\n",
    "N = [20, 50]\n",
    "steps = [10000 for i in N]\n",
    "sweeps = [500 for i in N]"
   ],
   "metadata": {
    "collapsed": false,
    "ExecuteTime": {
     "end_time": "2024-01-11T11:21:03.419261Z",
     "start_time": "2024-01-11T11:21:03.402788Z"
    }
   },
   "id": "80c285b8d57d914e"
  },
  {
   "cell_type": "code",
   "execution_count": 49,
   "outputs": [],
   "source": [
    "testmodel = isingmodel_fast()"
   ],
   "metadata": {
    "collapsed": false,
    "ExecuteTime": {
     "end_time": "2024-01-11T11:21:03.569763Z",
     "start_time": "2024-01-11T11:21:03.556387Z"
    }
   },
   "id": "67d41f5d78a4060b"
  },
  {
   "cell_type": "code",
   "execution_count": 50,
   "outputs": [],
   "source": [
    "test_sus = testmodel.get_susceptibility(N, betas, steps, sweeps, 4)"
   ],
   "metadata": {
    "collapsed": false,
    "ExecuteTime": {
     "end_time": "2024-01-11T11:23:49.353976Z",
     "start_time": "2024-01-11T11:21:05.402611Z"
    }
   },
   "id": "20e21f7caaa0db1f"
  },
  {
   "cell_type": "code",
   "execution_count": 51,
   "outputs": [
    {
     "data": {
      "text/plain": "array([[1.99695802e+00, 3.11011433e+00, 4.24735827e+00, 6.50857086e+00,\n        7.82915530e+00, 1.58127633e+01, 7.07705053e+00, 1.40389919e+00,\n        1.14536644e+00, 3.40557919e-01, 2.42823628e-01, 2.27319068e-01,\n        1.18736492e-01, 8.54319339e-02, 5.50726673e-02, 4.12117967e-02,\n        3.78467748e-02, 3.39866513e-02, 2.33494345e-02, 1.84237900e-02],\n       [1.77864072e+00, 3.41539565e+00, 3.95805026e+00, 5.70464048e+00,\n        1.11380258e+01, 9.59553029e+00, 3.19868758e+01, 4.68926173e+00,\n        1.35446366e+00, 4.59782140e-01, 2.38477686e-01, 1.80296577e-01,\n        1.17497570e-01, 7.68443676e-02, 5.48474975e-02, 4.62238950e-02,\n        3.41790875e-02, 2.88009789e-02, 2.57910640e-02, 1.89492195e-02]])"
     },
     "execution_count": 51,
     "metadata": {},
     "output_type": "execute_result"
    }
   ],
   "source": [
    "test_sus"
   ],
   "metadata": {
    "collapsed": false,
    "ExecuteTime": {
     "end_time": "2024-01-11T11:23:53.442016Z",
     "start_time": "2024-01-11T11:23:53.417391Z"
    }
   },
   "id": "bebf46699780684b"
  },
  {
   "cell_type": "code",
   "execution_count": 55,
   "outputs": [],
   "source": [
    "N = 300\n",
    "sweeps = 500\n",
    "beta = 0.5\n",
    "model = isingmodel_fast(N=N, init=False)\n",
    "spin_grid = model.grid(N)\n",
    "energy = model.get_energy(spin_grid)\n",
    "animation = model.animation(spin_grid, sweeps, beta, energy, N)\n",
    "model.save(animation, path='/Users/danielmiksch/Downloads/300grid.gif', display_sweeps=True)"
   ],
   "metadata": {
    "collapsed": false,
    "ExecuteTime": {
     "end_time": "2024-01-11T11:31:05.159249Z",
     "start_time": "2024-01-11T11:30:57.095807Z"
    }
   },
   "id": "13a31d0d1dcbd255"
  },
  {
   "cell_type": "code",
   "execution_count": 52,
   "outputs": [
    {
     "data": {
      "text/plain": "<Figure size 640x480 with 1 Axes>",
      "image/png": "[encoded data removed]"
     },
     "metadata": {},
     "output_type": "display_data"
    }
   ],
   "source": [
    "fig, ax = plt.subplots()\n",
    "\n",
    "x = np.linspace(0.1, 0.7, 1000)\n",
    "\n",
    "ax.scatter(1 / betas, test_sus[0], label=r'$20\\times20$-lattice', marker='.', s=80, edgecolors='none', color='blue')\n",
    "ax.scatter(1 / betas, test_sus[1], label=r'$50\\times50$-lattice', marker='.', s=80, edgecolors='none', color='red')\n",
    "ax.set_yscale('log')\n",
    "\n",
    "ax.set_xlabel(r'$1/\\beta$')\n",
    "ax.set_ylabel(r'Susceptibility $\\chi$')\n",
    "plt.title('Susceptibility of different lattices of the ising model', fontsize=12, pad=10)\n",
    "\n",
    "legend = ax.legend(loc=\"upper right\", bbox_to_anchor=(0.9, 0.4), fancybox=False, edgecolor='black', fontsize=12)\n",
    "legend.set_zorder(10)\n",
    "legend.get_frame().set_linewidth(0.5)\n",
    "\n",
    "plt.show()"
   ],
   "metadata": {
    "collapsed": false,
    "ExecuteTime": {
     "end_time": "2024-01-11T11:24:30.310498Z",
     "start_time": "2024-01-11T11:24:30.137384Z"
    }
   },
   "id": "9833a2cd212dac7f"
  },
  {
   "cell_type": "code",
   "execution_count": 59,
   "outputs": [],
   "source": [
    "N = 50\n",
    "steps = 25e6 / N**2\n",
    "beta = 0.45\n",
    "model = isingmodel_fast(N=N)\n",
    "spin_grid = model.grid(N)\n",
    "energy = model.get_energy(spin_grid)"
   ],
   "metadata": {
    "collapsed": false,
    "ExecuteTime": {
     "end_time": "2024-01-11T11:33:37.847061Z",
     "start_time": "2024-01-11T11:33:37.831634Z"
    }
   },
   "id": "d503e5b1360e43d8"
  },
  {
   "cell_type": "code",
   "execution_count": 60,
   "outputs": [],
   "source": [
    "spins_test, energies_test, equilibrium_test, variance_test = model.metropolis(spin_grid, steps, beta, energy, N)"
   ],
   "metadata": {
    "collapsed": false,
    "ExecuteTime": {
     "end_time": "2024-01-11T11:33:40.279058Z",
     "start_time": "2024-01-11T11:33:38.416567Z"
    }
   },
   "id": "ae3014cb5a690d6b"
  },
  {
   "cell_type": "code",
   "execution_count": 61,
   "outputs": [
    {
     "data": {
      "text/plain": "<Figure size 960x720 with 1 Axes>",
      "image/png": "[encoded data removed]"
     },
     "metadata": {},
     "output_type": "display_data"
    }
   ],
   "source": [
    "model.plot(equilibrium=equilibrium_test, cmap='binary', times=steps, beta=beta, save=False)"
   ],
   "metadata": {
    "collapsed": false,
    "ExecuteTime": {
     "end_time": "2024-01-11T11:33:41.271206Z",
     "start_time": "2024-01-11T11:33:41.130506Z"
    }
   },
   "id": "c4d25ed5328c1092"
  },
  {
   "cell_type": "code",
   "execution_count": 109,
   "outputs": [],
   "source": [
    "betas = np.linspace(0.3, 0.7, 20)\n",
    "N = [20, 50]\n",
    "steps = [10000 for i in N]\n",
    "sweeps = [500 for i in N]"
   ],
   "metadata": {
    "collapsed": false,
    "ExecuteTime": {
     "end_time": "2024-01-11T00:34:00.181821Z",
     "start_time": "2024-01-11T00:34:00.174824Z"
    }
   },
   "id": "240f0e08610b1fae"
  },
  {
   "cell_type": "code",
   "execution_count": 110,
   "outputs": [],
   "source": [
    "def get_magnetization(N, betas, steps, sweeps, iterations):\n",
    "    magnetization_list = np.zeros((iterations, len(betas)))\n",
    "    for t in range(0, iterations):\n",
    "        for index1, i in enumerate(N):\n",
    "            magnetization = np.zeros(len(betas))\n",
    "            model = isingmodel_fast(N=i)\n",
    "            spin_grid = model.grid()\n",
    "            energy = model.get_energy(spin_grid)\n",
    "            for index2, s in enumerate(betas):\n",
    "                spins, energies, equilibrium, variance = model.metropolis(spin_grid, steps[index1], s, energy, i)\n",
    "                magnetization[index2] = spins[-sweeps[index1]:].mean() / i ** 2\n",
    "            magnetization_list[t] = magnetization\n",
    "    magnetization_avg = np.zeros((len(N), len(betas)))\n",
    "    for i in range(0, len(N)):\n",
    "        group = range(i, len(magnetization_list), len(N))\n",
    "        magnetization_avg[i] = np.mean(magnetization_list[group, :], axis=0)\n",
    "        \n",
    "    return magnetization_avg"
   ],
   "metadata": {
    "collapsed": false,
    "ExecuteTime": {
     "end_time": "2024-01-11T00:34:02.721132Z",
     "start_time": "2024-01-11T00:34:02.705918Z"
    }
   },
   "id": "a25f4ebd91c6b87d"
  },
  {
   "cell_type": "code",
   "execution_count": 111,
   "outputs": [
    {
     "name": "stderr",
     "output_type": "stream",
     "text": [
      "/Users/danielmiksch/miniconda3/envs/juplab/lib/python3.10/site-packages/numpy/core/fromnumeric.py:3432: RuntimeWarning: Mean of empty slice.\n",
      "  return _methods._mean(a, axis=axis, dtype=dtype,\n",
      "/Users/danielmiksch/miniconda3/envs/juplab/lib/python3.10/site-packages/numpy/core/_methods.py:182: RuntimeWarning: invalid value encountered in divide\n",
      "  ret = um.true_divide(\n"
     ]
    },
    {
     "data": {
      "text/plain": "array([[-0.0086224,  0.0056288,  0.0177968, -0.0568336,  0.0958544,\n        -0.001928 ,  0.262152 ,  0.7782368,  0.8592272,  0.90128  ,\n         0.9256944,  0.9416576,  0.9549712,  0.9661648,  0.9728784,\n         0.976472 ,  0.9815904,  0.9851168,  0.9875584,  0.9904064],\n       [       nan,        nan,        nan,        nan,        nan,\n               nan,        nan,        nan,        nan,        nan,\n               nan,        nan,        nan,        nan,        nan,\n               nan,        nan,        nan,        nan,        nan]])"
     },
     "execution_count": 111,
     "metadata": {},
     "output_type": "execute_result"
    }
   ],
   "source": [
    "magnetization = get_magnetization(N, betas, steps, sweeps, 1)\n",
    "magnetization"
   ],
   "metadata": {
    "collapsed": false,
    "ExecuteTime": {
     "end_time": "2024-01-11T00:34:51.570836Z",
     "start_time": "2024-01-11T00:34:06.471081Z"
    }
   },
   "id": "91c7e9bb82814863"
  },
  {
   "cell_type": "code",
   "execution_count": 112,
   "outputs": [
    {
     "data": {
      "text/plain": "<Figure size 640x480 with 1 Axes>",
      "image/png": "[encoded data removed]"
     },
     "metadata": {},
     "output_type": "display_data"
    }
   ],
   "source": [
    "fig, ax = plt.subplots()\n",
    "\n",
    "# ax.plot(1 / betas, magnetization[0], 'o--', c='blue', label=r'$20\\times20$-lattice')\n",
    "ax.plot(1 / betas, magnetization[0], 'o--', c='red', label=r'$50\\times50$-lattice')\n",
    "ax.axhline(0, c='grey', linewidth=.8)\n",
    "ax.set_xlabel(r'$1/\\beta$')\n",
    "ax.set_ylabel(r'Magnetization $\\langle M\\rangle$')\n",
    "plt.title('Magnetization of different lattices', fontsize=12, pad=10)\n",
    "\n",
    "legend = ax.legend(loc=\"upper right\", bbox_to_anchor=(0.92, 0.92), fancybox=False, edgecolor='black', fontsize=12)\n",
    "legend.set_zorder(10)\n",
    "legend.get_frame().set_linewidth(0.5)\n",
    "\n",
    "plt.show()\n",
    "\n",
    "fig.savefig(f\"/Users/danielmiksch/Downloads/magnetization50by50.pdf\")"
   ],
   "metadata": {
    "collapsed": false,
    "ExecuteTime": {
     "end_time": "2024-01-11T00:35:01.505151Z",
     "start_time": "2024-01-11T00:35:01.306082Z"
    }
   },
   "id": "dd31ed4186235f82"
  },
  {
   "cell_type": "code",
   "execution_count": 72,
   "outputs": [],
   "source": [
    "betas = np.linspace(0.3, 0.7, 20)\n",
    "N = [20, 50]\n",
    "steps = [10000 for i in N]\n",
    "sweeps = [500 for i in N]"
   ],
   "metadata": {
    "collapsed": false,
    "ExecuteTime": {
     "end_time": "2024-01-10T23:26:34.693707Z",
     "start_time": "2024-01-10T23:26:34.682604Z"
    }
   },
   "id": "bce1f2e9ed65f775"
  },
  {
   "cell_type": "code",
   "execution_count": 73,
   "outputs": [],
   "source": [
    "def get_susceptibility(N, betas, steps ,sweeps, iterations):\n",
    "    variance_list = np.zeros((iterations, len(betas)))\n",
    "    for t in range(0, iterations):\n",
    "        for index1, i in enumerate(N):\n",
    "            variance = np.zeros(len(betas))\n",
    "            model = isingmodel_fast(N=i)\n",
    "            spin_grid = model.grid()\n",
    "            energy = model.get_energy(spin_grid)\n",
    "            for index2, s in enumerate(betas):\n",
    "                spins, energies, equilibrium, mag_squared = model.metropolis(spin_grid, steps[index1], s, energy, i)\n",
    "                variance[index2] = s * (mag_squared[-sweeps[index1]:].mean() - spins[-sweeps[index1]:].mean() ** 2) / i**2\n",
    "            variance_list[t] = variance\n",
    "    variance_avg = np.zeros((len(N), len(betas)))\n",
    "    for i in range(0, len(N)):\n",
    "        group = range(i, len(variance_list), len(N))\n",
    "        variance_avg[i] = np.mean(variance_list[group, :], axis=0)\n",
    "    return variance_avg"
   ],
   "metadata": {
    "collapsed": false,
    "ExecuteTime": {
     "end_time": "2024-01-10T23:26:35.876871Z",
     "start_time": "2024-01-10T23:26:35.859355Z"
    }
   },
   "id": "a1f9b953fa09dc2b"
  },
  {
   "cell_type": "code",
   "execution_count": 74,
   "outputs": [],
   "source": [
    "sus = get_susceptibility(N, betas, steps, sweeps, 2)"
   ],
   "metadata": {
    "collapsed": false,
    "ExecuteTime": {
     "end_time": "2024-01-10T23:28:06.868182Z",
     "start_time": "2024-01-10T23:26:36.710876Z"
    }
   },
   "id": "d445e2608af0a0c4"
  },
  {
   "cell_type": "code",
   "execution_count": 22,
   "outputs": [
    {
     "data": {
      "text/plain": "array([[ 0.14773471,  0.21367061,  0.29723618,  0.40495425,  0.48993515,\n         0.7145107 ,  1.02125478,  1.56256919,  2.2271754 ,  3.35620675,\n         4.12296093,  8.6763898 ,  8.56162736,  8.5237556 ,  2.32208332,\n         0.69246353,  0.41965088,  0.16095218,  0.09755595,  0.07450581,\n         0.05893463,  0.03987   ,  0.03752403,  0.02471873,  0.01894803],\n       [ 0.15033327,  0.22408971,  0.29369661,  0.40402814,  0.6277592 ,\n         0.85080995,  1.16329989,  1.28323158,  1.8890699 ,  2.87735254,\n         5.08678851,  7.6116552 ,  8.89650088, 15.68384384,  3.55107968,\n         1.10892373,  0.38767746,  0.18673775,  0.12525886,  0.08553089,\n         0.04949328,  0.03845627,  0.03039839,  0.02437183,  0.0182737 ]])"
     },
     "execution_count": 22,
     "metadata": {},
     "output_type": "execute_result"
    }
   ],
   "source": [
    "sus"
   ],
   "metadata": {
    "collapsed": false,
    "ExecuteTime": {
     "end_time": "2024-01-10T20:22:16.964054Z",
     "start_time": "2024-01-10T20:22:16.951514Z"
    }
   },
   "id": "338e5b9197610980"
  },
  {
   "cell_type": "code",
   "execution_count": 23,
   "outputs": [],
   "source": [
    "interp_sus50 = log_interp1d(betas, sus[1])\n",
    "interp_sus20 = log_interp1d(betas, sus[0])"
   ],
   "metadata": {
    "collapsed": false,
    "ExecuteTime": {
     "end_time": "2024-01-10T20:22:25.207396Z",
     "start_time": "2024-01-10T20:22:25.202862Z"
    }
   },
   "id": "1d2bf8a34757d938"
  },
  {
   "cell_type": "code",
   "execution_count": 24,
   "outputs": [
    {
     "data": {
      "text/plain": "<Figure size 640x480 with 1 Axes>",
      "image/png": "[encoded data removed]"
     },
     "metadata": {},
     "output_type": "display_data"
    }
   ],
   "source": [
    "fig, ax = plt.subplots()\n",
    "\n",
    "x = np.linspace(0.1, 0.7, 1000)\n",
    "\n",
    "ax.plot(1 / x, interp_sus50(x),\n",
    "         c='red',\n",
    "         linewidth=.8,\n",
    "         label='',\n",
    "         zorder=2)\n",
    "ax.plot(1 / x, interp_sus20(x),\n",
    "         c='blue',\n",
    "         linewidth=.8,\n",
    "         label='',\n",
    "         zorder=2)\n",
    "ax.scatter(1 / betas, sus[0], label=r'$20\\times20$-lattice', marker='.', s=80, edgecolors='none', color='blue')\n",
    "ax.scatter(1 / betas, sus[1], label=r'$50\\times50$-lattice', marker='.', s=80, edgecolors='none', color='red')\n",
    "ax.set_yscale('log')\n",
    "\n",
    "ax.set_xlabel(r'$1/\\beta$')\n",
    "ax.set_ylabel(r'Susceptibility $\\chi$')\n",
    "plt.title('Susceptibility of different lattices of the ising model', fontsize=12, pad=10)\n",
    "\n",
    "legend = ax.legend(loc=\"upper right\", bbox_to_anchor=(0.9, 0.4), fancybox=False, edgecolor='black', fontsize=12)\n",
    "legend.set_zorder(10)\n",
    "legend.get_frame().set_linewidth(0.5)\n",
    "\n",
    "plt.show()\n",
    "\n",
    "# fig.savefig(f\"/Users/danielmiksch/Downloads/susceptibility.pdf\")"
   ],
   "metadata": {
    "collapsed": false,
    "ExecuteTime": {
     "end_time": "2024-01-10T20:22:25.839028Z",
     "start_time": "2024-01-10T20:22:25.675768Z"
    }
   },
   "id": "4265ac9d11f92d12"
  },
  {
   "cell_type": "code",
   "execution_count": null,
   "outputs": [],
   "source": [],
   "metadata": {
    "collapsed": false
   },
   "id": "bd8f453a369d84c6"
  }
 ],
 "metadata": {
  "kernelspec": {
   "display_name": "Python 3",
   "language": "python",
   "name": "python3"
  },
  "language_info": {
   "codemirror_mode": {
    "name": "ipython",
    "version": 2
   },
   "file_extension": ".py",
   "mimetype": "text/x-python",
   "name": "python",
   "nbconvert_exporter": "python",
   "pygments_lexer": "ipython2",
   "version": "2.7.6"
  }
 },
 "nbformat": 4,
 "nbformat_minor": 5
}
