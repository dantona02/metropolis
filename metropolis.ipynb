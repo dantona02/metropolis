{
 "cells": [
  {
   "cell_type": "code",
   "execution_count": 110,
   "id": "initial_id",
   "metadata": {
    "collapsed": true,
    "ExecuteTime": {
     "end_time": "2024-01-08T21:04:11.267215Z",
     "start_time": "2024-01-08T21:04:11.259886Z"
    }
   },
   "outputs": [],
   "source": [
    "import numba\n",
    "import numpy as np\n",
    "import matplotlib.pyplot as plt\n",
    "from scipy.interpolate import interp1d\n",
    "from scipy.ndimage import convolve, generate_binary_structure\n",
    "import matplotlib.patches as mpatches\n",
    "from scipy.optimize import minimize_scalar\n",
    "# import matplotlib\n",
    "# matplotlib.use('QT5Agg')\n",
    "# %matplotlib qt"
   ]
  },
  {
   "cell_type": "code",
   "execution_count": 126,
   "outputs": [
    {
     "name": "stderr",
     "output_type": "stream",
     "text": [
      "/Users/danielmiksch/miniconda3/envs/juplab/lib/python3.10/site-packages/numba/core/decorators.py:282: RuntimeWarning: nopython is set for njit and is ignored\n",
      "  warnings.warn('nopython is set for njit and is ignored', RuntimeWarning)\n"
     ]
    }
   ],
   "source": [
    "class isingmodel:\n",
    "    def __init__(self, N, J=1):\n",
    "        self.J = J\n",
    "        self.N = N\n",
    "        self.init_random = np.random.random((N, N))\n",
    "        # self.grid_n = np.ones((N, N))\n",
    "        self.grid_n = np.zeros((N, N))\n",
    "        self.grid_n[self.init_random >= .5] = 1\n",
    "        self.grid_n[self.init_random < .5] = -1\n",
    "    \n",
    "    def get_energy(self, grid):\n",
    "        kernel = generate_binary_structure(2, 1)\n",
    "        kernel[1][1] = False\n",
    "        result = - self.J * grid * convolve(grid, kernel, mode='wrap')\n",
    "        return result.sum()\n",
    "    \n",
    "    def grid(self):\n",
    "        return self.grid_n\n",
    "    \n",
    "    @staticmethod\n",
    "    @numba.njit(\"Tuple((f8[:], f8[:], f8[:,:], f8[:]))(f8[:,:], i8, f8, f8, i8)\", nopython=True, nogil=True)\n",
    "    def metropolis(arr_spin, times, beta, energy, N):\n",
    "        arr_spin = arr_spin.copy()\n",
    "        total_spin = np.zeros(times - 1)\n",
    "        total_energy = np.zeros(times - 1)\n",
    "        # norm_variance = np.zeros(times -1)\n",
    "        for t in range(0, times - 1):\n",
    "            x = np.random.randint(0,N)\n",
    "            y = np.random.randint(0,N)\n",
    "            spin_t = arr_spin[x, y]\n",
    "            spin_prime = -spin_t\n",
    "            E_t = 0\n",
    "            E_prime = 0\n",
    "            neighbours = [(x - 1) % N, (x + 1) % N, (y - 1) % N, (y + 1) % N]\n",
    "            for nx in [neighbours[0], neighbours[1]]:\n",
    "                E_t += - spin_t * arr_spin[nx, y]\n",
    "                E_prime += - spin_prime * arr_spin[nx, y]\n",
    "            for ny in [neighbours[2], neighbours[3]]:\n",
    "                E_t += - spin_t * arr_spin[x, ny]\n",
    "                E_prime += - spin_prime * arr_spin[x, ny]\n",
    "            dE = E_prime - E_t\n",
    "            if (dE > 0) & (np.random.random() < np.exp(-beta * dE)):\n",
    "                arr_spin[x, y] = spin_prime\n",
    "                energy += dE\n",
    "            elif dE <= 0:\n",
    "                arr_spin[x, y] = spin_prime\n",
    "                energy += dE\n",
    "            total_spin[t] = arr_spin.sum()\n",
    "            total_energy[t] = energy\n",
    "        mag_squared = total_spin ** 2\n",
    "        \n",
    "        return total_spin, total_energy, arr_spin, mag_squared\n",
    "        \n",
    "    def plot(self, equilibrium, cmap, times, beta, save=False):\n",
    "        fig, ax = plt.subplots(dpi=150)\n",
    "        plt.rcParams[\"font.family\"] = \"times\"\n",
    "        plt.rcParams[\"text.usetex\"] = True\n",
    "        plt.title(fr'{self.N}$\\times${self.N}-lattice after {times:.1e} thermalization steps' + '\\n' + rf'$\\beta={beta}$', fontsize=12, pad=10)\n",
    "        ax.imshow(equilibrium, cmap=cmap, interpolation='none')\n",
    "        white_patch = mpatches.Patch(color='white', label=r'$\\sigma_i=-1$')\n",
    "        black_patch = mpatches.Patch(color='black', label=r'$\\sigma_i=+1$')\n",
    "\n",
    "        legend = ax.legend(handles=[white_patch, black_patch], loc=\"upper right\", bbox_to_anchor=(1.4, 1.02), fancybox=False, edgecolor='black', fontsize=12, facecolor='whitesmoke')\n",
    "        legend.set_zorder(10)\n",
    "        legend.get_frame().set_linewidth(0.5)\n",
    "        plt.show()\n",
    "        if save:\n",
    "            fig.tight_layout()\n",
    "            fig.savefig(f\"/Users/danielmiksch/Downloads/{self.N}by{self.N}_grid.png\")\n",
    "            \n",
    "    def magnetization(self, spins):\n",
    "        return spins / self.N ** 2\n",
    "    \n",
    "    def print_energy(self):\n",
    "        print(self.get_energy(self.grid_n))"
   ],
   "metadata": {
    "collapsed": false,
    "ExecuteTime": {
     "end_time": "2024-01-08T21:10:31.688471Z",
     "start_time": "2024-01-08T21:10:31.462671Z"
    }
   },
   "id": "f91d684baf53a881"
  },
  {
   "cell_type": "markdown",
   "source": [
    "# a)\n",
    "$50\\times 50$-grid after $10\\,000\\cdot 50^2$ thermalization updates at $\\beta=0.45$. The lattice is being initialized to the ferromagnetic ground state, i.e. all spins are equal to one."
   ],
   "metadata": {
    "collapsed": false
   },
   "id": "9a08cfeb73c2abd2"
  },
  {
   "cell_type": "code",
   "execution_count": 95,
   "outputs": [],
   "source": [
    "N = 100\n",
    "steps = 5e6\n",
    "beta = 0.4\n",
    "model = isingmodel(N=N)\n",
    "spin_grid = model.grid()\n",
    "energy = model.get_energy(spin_grid)"
   ],
   "metadata": {
    "collapsed": false,
    "ExecuteTime": {
     "end_time": "2024-01-08T20:06:30.595266Z",
     "start_time": "2024-01-08T20:06:30.592524Z"
    }
   },
   "id": "7fb1bc0527ac6a0"
  },
  {
   "cell_type": "code",
   "execution_count": 96,
   "outputs": [],
   "source": [
    "spins50, energies50, equilibrium50, variance50 = model.metropolis(spin_grid, steps, beta, energy, N)"
   ],
   "metadata": {
    "collapsed": false,
    "ExecuteTime": {
     "end_time": "2024-01-08T20:07:22.998560Z",
     "start_time": "2024-01-08T20:06:35.551372Z"
    }
   },
   "id": "c07af197310bf9c7"
  },
  {
   "cell_type": "code",
   "execution_count": 97,
   "outputs": [
    {
     "data": {
      "text/plain": "<Figure size 960x720 with 1 Axes>",
      "image/png": "[encoded data removed]"
     },
     "metadata": {},
     "output_type": "display_data"
    }
   ],
   "source": [
    "model.plot(equilibrium=equilibrium50, cmap='binary', times=steps, beta=beta, save=True)"
   ],
   "metadata": {
    "collapsed": false,
    "ExecuteTime": {
     "end_time": "2024-01-08T20:07:27.169318Z",
     "start_time": "2024-01-08T20:07:26.582727Z"
    }
   },
   "id": "68f681d8ca7ee490"
  },
  {
   "cell_type": "markdown",
   "source": [
    "# c)\n",
    "The following code calculates the magnetisation with the metropolis algorithm for $N=20$ and $N=50$ on an interval of $\\beta\\in [0.3,0.7]$. To avoid fluctuation of the magnetization, the last $500\\cdot N^2$ measurements are averaged.\n",
    "The results of this computation are shown in the figure below. As one can see, the magnetization curve of the $50\\times 50$-lattice are much smoother than the one of the $20\\times 20$-lattice.\n",
    "One reason for this is the size of the selected system. In most thermodynamic systems, the assumption is made that the system is infinite. A larger lattice has more spins that can interact. This leads to a larger number of microstates that determine the macro behavior of the system.\n",
    "This results in fewer statistical fluctuations of the observables and thus a smoother magnetization curve."
   ],
   "metadata": {
    "collapsed": false
   },
   "id": "a849d2ca8d96d022"
  },
  {
   "cell_type": "code",
   "execution_count": 98,
   "outputs": [],
   "source": [
    "betas = np.linspace(0.3, 0.7, 20)\n",
    "N = [20, 50]\n",
    "steps = [10000 * i**2 for i in N]\n",
    "sweeps = [600 * i**2 for i in N]"
   ],
   "metadata": {
    "collapsed": false,
    "ExecuteTime": {
     "end_time": "2024-01-08T20:07:59.038478Z",
     "start_time": "2024-01-08T20:07:59.032965Z"
    }
   },
   "id": "c5f57602b87ce4fe"
  },
  {
   "cell_type": "code",
   "execution_count": 99,
   "outputs": [],
   "source": [
    "def get_magnetization(N, betas, sweeps):\n",
    "    magnetization_list = np.zeros((len(N), len(betas)))\n",
    "    for index1, i in enumerate(N):\n",
    "        magnetization = np.zeros(len(betas))\n",
    "        model = isingmodel(N=i)\n",
    "        spin_grid = model.grid()\n",
    "        energy = model.get_energy(spin_grid)\n",
    "        for index2, s in enumerate(betas):\n",
    "            spins, energies, equilibrium, variance = model.metropolis(spin_grid, steps[index1], s, energy, i)\n",
    "            magnetization[index2] = spins[-sweeps[index1]:].mean() / i**2\n",
    "        magnetization_list[index1] = magnetization\n",
    "            \n",
    "    return magnetization_list"
   ],
   "metadata": {
    "collapsed": false,
    "ExecuteTime": {
     "end_time": "2024-01-08T20:08:02.197967Z",
     "start_time": "2024-01-08T20:08:02.191421Z"
    }
   },
   "id": "30b0343f50b2db74"
  },
  {
   "cell_type": "code",
   "execution_count": 100,
   "outputs": [
    {
     "data": {
      "text/plain": "array([[-0.00227858, -0.00607437,  0.05172906, -0.06454104, -0.13732431,\n        -0.04609571,  0.48057377, -0.80696052, -0.85359898, -0.89610771,\n        -0.92077012, -0.94121631, -0.95650702,  0.96593537,  0.97286417,\n        -0.97535144, -0.98151285,  0.98452854,  0.98810356, -0.99100544],\n       [ 0.00420204, -0.00399977, -0.02484482, -0.01790043, -0.03915523,\n         0.00676165,  0.32725269,  0.77575924, -0.85227409,  0.89540083,\n         0.92667388, -0.94252073,  0.95538233,  0.96542167,  0.97157668,\n         0.97715047, -0.98118504, -0.98514369,  0.98795605,  0.99027603]])"
     },
     "execution_count": 100,
     "metadata": {},
     "output_type": "execute_result"
    }
   ],
   "source": [
    "magnetization = get_magnetization(N, betas, sweeps)\n",
    "magnetization"
   ],
   "metadata": {
    "collapsed": false,
    "ExecuteTime": {
     "end_time": "2024-01-08T20:29:26.289403Z",
     "start_time": "2024-01-08T20:08:36.828137Z"
    }
   },
   "id": "9f12052a511f4a05"
  },
  {
   "cell_type": "code",
   "execution_count": 102,
   "outputs": [
    {
     "data": {
      "text/plain": "<Figure size 640x480 with 1 Axes>",
      "image/png": "[encoded data removed]"
     },
     "metadata": {},
     "output_type": "display_data"
    }
   ],
   "source": [
    "fig, ax = plt.subplots()\n",
    "\n",
    "ax.plot(1 / betas, abs(magnetization[0]), 'o--', c='blue', label=r'$20\\times20$-lattice')\n",
    "ax.plot(1 / betas, abs(magnetization[1]), 'o--', c='red', label=r'$50\\times50$-lattice')\n",
    "ax.axhline(0, c='grey', linewidth=.8)\n",
    "ax.set_xlabel(r'$1/\\beta$')\n",
    "ax.set_ylabel(r'Magnetization $\\langle M\\rangle$')\n",
    "plt.title('Magnetization of different lattices', fontsize=12, pad=10)\n",
    "\n",
    "legend = ax.legend(loc=\"upper right\", bbox_to_anchor=(0.92, 0.92), fancybox=False, edgecolor='black', fontsize=12)\n",
    "legend.set_zorder(10)\n",
    "legend.get_frame().set_linewidth(0.5)\n",
    "\n",
    "plt.show()\n",
    "\n",
    "# fig.savefig(f\"/Users/danielmiksch/Downloads/magnetization.pdf\")"
   ],
   "metadata": {
    "collapsed": false,
    "ExecuteTime": {
     "end_time": "2024-01-08T20:32:02.103892Z",
     "start_time": "2024-01-08T20:32:01.819798Z"
    }
   },
   "id": "6256f0442372a38f"
  },
  {
   "cell_type": "code",
   "execution_count": null,
   "outputs": [],
   "source": [
    "# fig, axes = plt.subplots(1, 2, figsize=(12,4))\n",
    "# \n",
    "# plt.rcParams[\"font.family\"] = \"times\"\n",
    "# plt.rcParams[\"text.usetex\"] = True\n",
    "# \n",
    "# ax = axes[0]\n",
    "# ax.plot(spins/50**2)\n",
    "# ax.set_xlabel('Algorithm Time Steps')\n",
    "# ax.set_ylabel(r'Magnetization $\\langle M\\rangle$')\n",
    "# ax.grid()\n",
    "# ax = axes[1]\n",
    "# ax.plot(energies)\n",
    "# ax.set_xlabel('Algorithm Time Steps')\n",
    "# ax.set_ylabel(r'Energy $E$')\n",
    "# ax.grid()\n",
    "# fig.tight_layout()\n",
    "# fig.suptitle(r'Evolution of Average Spin and Energy', y=1.07, size=18)\n",
    "# plt.show()"
   ],
   "metadata": {
    "collapsed": false,
    "ExecuteTime": {
     "start_time": "2024-01-08T01:30:59.792042Z"
    }
   },
   "id": "f12b95d42bdfbd17"
  },
  {
   "cell_type": "markdown",
   "source": [
    "# d)\n",
    "This part of the code calculates the variance of the magnetization (or spins). The calculations are performed according to the following formula:\n",
    "\\begin{equation}\n",
    "\\operatorname{Var}\\left(M\\right)=\\left\\langle M^2\\right\\rangle-\\left\\langle M\\right\\rangle^2 \\quad \\text{with}\\quad M=\\sum_{i} \\sigma_i\n",
    "\\end{equation}\n",
    "The variance is then being normalized with the factor $\\beta/N^2$, wich gives us the susceptibility $\\chi$:\n",
    "\\begin{equation}\n",
    "\\chi=\\frac{\\beta}{N^2}\\left(\\left\\langle M^2\\right\\rangle-\\left\\langle M\\right\\rangle^2\\right)\n",
    "\\end{equation}\n",
    "Numerous sweep passes ($600\\cdot N^2$) are also used here to minimize the fluctuations of the observables.\n",
    "As one can see, the calculations with the bigger lattice, i.e. 50 by 50, allows much more precise statements to be made about the susceptibility curve and the critical temperature than with the smaller grid."
   ],
   "metadata": {
    "collapsed": false
   },
   "id": "2398a6a61f295b21"
  },
  {
   "cell_type": "code",
   "execution_count": 103,
   "outputs": [],
   "source": [
    "betas = np.linspace(0.3, 0.7, 20)\n",
    "N = [20, 50]\n",
    "steps = [10000 * i ** 2 for i in N]\n",
    "sweeps = [600 * i ** 2 for i in N]"
   ],
   "metadata": {
    "collapsed": false,
    "ExecuteTime": {
     "end_time": "2024-01-08T20:32:43.519985Z",
     "start_time": "2024-01-08T20:32:43.512042Z"
    }
   },
   "id": "79a89b544a3f3942"
  },
  {
   "cell_type": "code",
   "execution_count": 104,
   "outputs": [],
   "source": [
    "def get_susceptibility(N, betas, sweeps):\n",
    "    variance_list = np.zeros((len(N), len(betas)))\n",
    "    for index1, i in enumerate(N):\n",
    "        variance = np.zeros(len(betas))\n",
    "        model = isingmodel(N=i)\n",
    "        spin_grid = model.grid()\n",
    "        energy = model.get_energy(spin_grid)\n",
    "        for index2, s in enumerate(betas):\n",
    "            spins, energies, equilibrium, mag_squared = model.metropolis(spin_grid, steps[index1], s, energy, i)\n",
    "            variance[index2] = beta * (mag_squared[-sweeps[index1]:].mean() - spins[-sweeps[index1]:].mean() ** 2) / i**2\n",
    "        variance_list[index1] = variance\n",
    "\n",
    "    return variance_list"
   ],
   "metadata": {
    "collapsed": false,
    "ExecuteTime": {
     "end_time": "2024-01-08T20:32:44.633707Z",
     "start_time": "2024-01-08T20:32:44.627802Z"
    }
   },
   "id": "2f88024e0134a16f"
  },
  {
   "cell_type": "code",
   "execution_count": 105,
   "outputs": [],
   "source": [
    "variance = get_susceptibility(N, betas, sweeps)"
   ],
   "metadata": {
    "collapsed": false,
    "ExecuteTime": {
     "end_time": "2024-01-08T20:53:25.177681Z",
     "start_time": "2024-01-08T20:32:48.335465Z"
    }
   },
   "id": "847f0c7e3e918aab"
  },
  {
   "cell_type": "code",
   "execution_count": 129,
   "outputs": [
    {
     "data": {
      "text/plain": "array([[4.23637318e+00, 6.48776817e+00, 9.21784376e+00, 2.02425153e+01,\n        1.92234617e+01, 1.87984785e+01, 7.40000379e+00, 5.29998396e+00,\n        1.17735125e+00, 1.44203712e+00, 2.42426470e-01, 2.02178901e-01,\n        1.26060607e-01, 1.23729902e-01, 5.06868538e-02, 6.12197150e-02,\n        4.47886637e-02, 3.49408299e-02, 1.94462317e-02, 1.69449796e-02],\n       [5.47339810e+00, 6.80279635e+00, 8.78538560e+00, 1.09256116e+01,\n        1.41011402e+01, 4.31103823e+01, 2.08770825e+02, 1.46301852e+01,\n        2.36193879e+00, 6.90456768e-01, 2.90349619e-01, 2.52328388e-01,\n        1.63122408e-01, 1.13570352e-01, 6.45294475e-02, 4.80211902e-02,\n        4.15942776e-02, 2.95113955e-02, 2.49789672e-02, 1.99977009e-02]])"
     },
     "execution_count": 129,
     "metadata": {},
     "output_type": "execute_result"
    }
   ],
   "source": [
    "variance"
   ],
   "metadata": {
    "collapsed": false,
    "ExecuteTime": {
     "end_time": "2024-01-08T15:57:45.317469Z",
     "start_time": "2024-01-08T15:57:45.300992Z"
    }
   },
   "id": "b6855650f81be9fa"
  },
  {
   "cell_type": "code",
   "execution_count": 107,
   "outputs": [],
   "source": [
    "def log_interp1d(xx, yy, kind='quadratic'):\n",
    "    logx = np.log10(xx)\n",
    "    logy = np.log10(yy)\n",
    "    lin_interp = interp1d(logx, logy, kind=kind)\n",
    "    log_interp = lambda zz: np.power(10.0, lin_interp(np.log10(zz)))\n",
    "    return log_interp"
   ],
   "metadata": {
    "collapsed": false,
    "ExecuteTime": {
     "end_time": "2024-01-08T20:55:11.628407Z",
     "start_time": "2024-01-08T20:55:11.619565Z"
    }
   },
   "id": "cfd8d3c05dc490f3"
  },
  {
   "cell_type": "code",
   "execution_count": 108,
   "outputs": [],
   "source": [
    "interp_variance50 = log_interp1d(betas, variance[1])\n",
    "interp_variance20 = log_interp1d(betas, variance[0])"
   ],
   "metadata": {
    "collapsed": false,
    "ExecuteTime": {
     "end_time": "2024-01-08T20:55:12.199384Z",
     "start_time": "2024-01-08T20:55:12.192960Z"
    }
   },
   "id": "f6e5c158df0e4218"
  },
  {
   "cell_type": "code",
   "execution_count": 109,
   "outputs": [
    {
     "data": {
      "text/plain": "<Figure size 640x480 with 1 Axes>",
      "image/png": "[encoded data removed]"
     },
     "metadata": {},
     "output_type": "display_data"
    }
   ],
   "source": [
    "fig, ax = plt.subplots()\n",
    "\n",
    "x = np.linspace(0.3, 0.7, 1000)\n",
    "\n",
    "ax.plot(1 / x, interp_variance50(x),\n",
    "         c='red',\n",
    "         linewidth=.8,\n",
    "         label='',\n",
    "         zorder=2)\n",
    "ax.plot(1 / x, interp_variance20(x),\n",
    "         c='blue',\n",
    "         linewidth=.8,\n",
    "         label='',\n",
    "         zorder=2)\n",
    "ax.scatter(1 / betas, variance[0], label=r'$20\\times20$-lattice', marker='.', s=80, edgecolors='none', color='blue')\n",
    "ax.scatter(1 / betas, variance[1], label=r'$50\\times50$-lattice', marker='.', s=80, edgecolors='none', color='red')\n",
    "ax.set_yscale('log')\n",
    "\n",
    "ax.set_xlabel(r'$1/\\beta$')\n",
    "ax.set_ylabel(r'Susceptibility $\\chi$')\n",
    "plt.title('Susceptibility of different lattices of the ising model', fontsize=12, pad=10)\n",
    "\n",
    "legend = ax.legend(loc=\"upper right\", bbox_to_anchor=(0.9, 0.4), fancybox=False, edgecolor='black', fontsize=12)\n",
    "legend.set_zorder(10)\n",
    "legend.get_frame().set_linewidth(0.5)\n",
    "\n",
    "plt.show()\n",
    "\n",
    "# fig.savefig(f\"/Users/danielmiksch/Downloads/susceptibility.pdf\")"
   ],
   "metadata": {
    "collapsed": false,
    "ExecuteTime": {
     "end_time": "2024-01-08T20:55:16.750734Z",
     "start_time": "2024-01-08T20:55:16.309184Z"
    }
   },
   "id": "c526ebc47b0a24fd"
  },
  {
   "cell_type": "markdown",
   "source": [
    "# e)"
   ],
   "metadata": {
    "collapsed": false
   },
   "id": "34a3215ac3f8d519"
  },
  {
   "cell_type": "code",
   "execution_count": 122,
   "outputs": [],
   "source": [
    "susceptibility = np.array([[4.23637318e+00, 6.48776817e+00, 9.21784376e+00, 2.02425153e+01,\n",
    "        1.92234617e+01, 1.87984785e+01, 7.40000379e+00, 5.29998396e+00,\n",
    "        1.17735125e+00, 1.44203712e+00, 2.42426470e-01, 2.02178901e-01,\n",
    "        1.26060607e-01, 1.23729902e-01, 5.06868538e-02, 6.12197150e-02,\n",
    "        4.47886637e-02, 3.49408299e-02, 1.94462317e-02, 1.69449796e-02],\n",
    "       [5.47339810e+00, 6.80279635e+00, 8.78538560e+00, 1.09256116e+01,\n",
    "        1.41011402e+01, 4.31103823e+01, 2.08770825e+02, 1.46301852e+01,\n",
    "        2.36193879e+00, 6.90456768e-01, 2.90349619e-01, 2.52328388e-01,\n",
    "        1.63122408e-01, 1.13570352e-01, 6.45294475e-02, 4.80211902e-02,\n",
    "        4.15942776e-02, 2.95113955e-02, 2.49789672e-02, 1.99977009e-02]])"
   ],
   "metadata": {
    "collapsed": false,
    "ExecuteTime": {
     "end_time": "2024-01-08T21:09:42.669421Z",
     "start_time": "2024-01-08T21:09:42.652103Z"
    }
   },
   "id": "1a2edcc2d940172f"
  },
  {
   "cell_type": "code",
   "execution_count": 123,
   "outputs": [],
   "source": [
    "interp_susceptibility50 = log_interp1d(betas, susceptibility[1])"
   ],
   "metadata": {
    "collapsed": false,
    "ExecuteTime": {
     "end_time": "2024-01-08T21:09:42.826318Z",
     "start_time": "2024-01-08T21:09:42.818751Z"
    }
   },
   "id": "9be6ade5fea56763"
  },
  {
   "cell_type": "code",
   "execution_count": 124,
   "outputs": [],
   "source": [
    "beta_crit = minimize_scalar(lambda x: -interp_susceptibility50(x), bounds=(0.3, 0.7), method='bounded')\n",
    "beta_crit = beta_crit.x\n",
    "kb = 1.380649e-23"
   ],
   "metadata": {
    "collapsed": false,
    "ExecuteTime": {
     "end_time": "2024-01-08T21:09:42.994952Z",
     "start_time": "2024-01-08T21:09:42.990507Z"
    }
   },
   "id": "6b58298f909ba311"
  },
  {
   "cell_type": "code",
   "execution_count": 125,
   "outputs": [
    {
     "data": {
      "text/plain": "1.7080732825345923e+23"
     },
     "execution_count": 125,
     "metadata": {},
     "output_type": "execute_result"
    }
   ],
   "source": [
    "(1 / beta_crit) / kb"
   ],
   "metadata": {
    "collapsed": false,
    "ExecuteTime": {
     "end_time": "2024-01-08T21:09:43.837507Z",
     "start_time": "2024-01-08T21:09:43.801049Z"
    }
   },
   "id": "f9b533cb36128188"
  },
  {
   "cell_type": "code",
   "execution_count": null,
   "outputs": [],
   "source": [],
   "metadata": {
    "collapsed": false
   },
   "id": "6ca3756fba963dc4"
  }
 ],
 "metadata": {
  "kernelspec": {
   "display_name": "Python 3",
   "language": "python",
   "name": "python3"
  },
  "language_info": {
   "codemirror_mode": {
    "name": "ipython",
    "version": 2
   },
   "file_extension": ".py",
   "mimetype": "text/x-python",
   "name": "python",
   "nbconvert_exporter": "python",
   "pygments_lexer": "ipython2",
   "version": "2.7.6"
  }
 },
 "nbformat": 4,
 "nbformat_minor": 5
}
