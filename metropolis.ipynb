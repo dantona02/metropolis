{
 "cells": [
  {
   "cell_type": "code",
   "execution_count": 131,
   "id": "initial_id",
   "metadata": {
    "collapsed": true,
    "ExecuteTime": {
     "end_time": "2024-01-08T00:17:43.489806Z",
     "start_time": "2024-01-08T00:17:43.482592Z"
    }
   },
   "outputs": [],
   "source": [
    "import numba\n",
    "import numpy as np\n",
    "import matplotlib.pyplot as plt\n",
    "from scipy.ndimage import convolve, generate_binary_structure\n",
    "import matplotlib\n",
    "matplotlib.use('QT5Agg')\n",
    "%matplotlib qt"
   ]
  },
  {
   "cell_type": "code",
   "execution_count": 132,
   "outputs": [
    {
     "name": "stderr",
     "output_type": "stream",
     "text": [
      "/Users/danielmiksch/miniconda3/envs/juplab/lib/python3.10/site-packages/numba/core/decorators.py:282: RuntimeWarning: nopython is set for njit and is ignored\n",
      "  warnings.warn('nopython is set for njit and is ignored', RuntimeWarning)\n"
     ]
    }
   ],
   "source": [
    "class metropolis:\n",
    "    def __init__(self, N, J=1, B=0):\n",
    "        self.J = J\n",
    "        self.N = N\n",
    "        self.init_random = np.random.random((N, N))\n",
    "        self.grid_n = np.ones((N, N))\n",
    "        # self.grid_n[self.init_random >= .5] = 1\n",
    "        # self.grid_n[self.init_random < .5] = -1\n",
    "    \n",
    "    def get_energy(self, grid):\n",
    "        kernel = generate_binary_structure(2, 1)\n",
    "        kernel[1][1] = False\n",
    "        result = - self.J * grid * convolve(grid, kernel, mode='wrap')\n",
    "        return result.sum()\n",
    "    \n",
    "    def grid(self):\n",
    "        return self.grid_n\n",
    "    \n",
    "    @staticmethod\n",
    "    @numba.njit(\"Tuple((f8[:], f8[:], f8[:,:]))(f8[:,:], i8, f8, f8, i8)\", nopython=True, nogil=True)\n",
    "    def algo(arr_spin, times, beta, energy, N):\n",
    "        arr_spin = arr_spin.copy()\n",
    "        total_spin = np.zeros(times - 1)\n",
    "        total_energy = np.zeros(times - 1)\n",
    "        for t in range(0, times - 1):\n",
    "            x = np.random.randint(0,N)\n",
    "            y = np.random.randint(0,N)\n",
    "            spin_t = arr_spin[x, y]\n",
    "            spin_prime = -spin_t\n",
    "            E_t = 0\n",
    "            E_prime = 0\n",
    "            neighbours = [(x - 1) % N, (x + 1) % N, (y - 1) % N, (y + 1) % N]\n",
    "            for nx in [neighbours[0], neighbours[1]]:\n",
    "                E_t += - spin_t * arr_spin[nx, y]\n",
    "                E_prime += - spin_prime * arr_spin[nx, y]\n",
    "            for ny in [neighbours[2], neighbours[3]]:\n",
    "                E_t += - spin_t * arr_spin[x, ny]\n",
    "                E_prime += - spin_prime * arr_spin[x, ny]\n",
    "            dE = E_prime - E_t\n",
    "            if (dE > 0) & (np.random.random() < np.exp(-beta * dE)):\n",
    "                arr_spin[x, y] = spin_prime\n",
    "                energy += dE\n",
    "            elif dE <= 0:\n",
    "                arr_spin[x, y] = spin_prime\n",
    "                energy += dE\n",
    "            total_spin[t] = arr_spin.sum()\n",
    "            total_energy[t] = energy\n",
    "            \n",
    "        return total_spin, total_energy, arr_spin\n",
    "        \n",
    "    def plot(self, cmap, times, beta, save=False):\n",
    "        fig, axes = plt.subplots(dpi=150)\n",
    "        plt.rcParams[\"font.family\"] = \"times\"\n",
    "        plt.rcParams[\"text.usetex\"] = True\n",
    "        plt.title(fr'{self.N}$\\times${self.N}-lattice after {times:.1e} thermalization steps' + '\\n' + rf'$\\beta={beta}$', fontsize=12, pad=10)\n",
    "        plt.imshow(equilibrium, cmap=cmap)\n",
    "        if save:\n",
    "            fig.savefig(f\"/Users/danielmiksch/Downloads/{self.N}by{self.N}_grid.pdf\")\n",
    "    \n",
    "    def print_energy(self):\n",
    "        print(self.get_energy(self.grid_n))"
   ],
   "metadata": {
    "collapsed": false,
    "ExecuteTime": {
     "end_time": "2024-01-08T00:17:43.755232Z",
     "start_time": "2024-01-08T00:17:43.510195Z"
    }
   },
   "id": "f91d684baf53a881"
  },
  {
   "cell_type": "code",
   "execution_count": 133,
   "outputs": [],
   "source": [
    "test = metropolis(N=50)\n",
    "spin_grid = test.grid()\n",
    "energy = test.get_energy(spin_grid)"
   ],
   "metadata": {
    "collapsed": false,
    "ExecuteTime": {
     "end_time": "2024-01-08T00:17:43.755875Z",
     "start_time": "2024-01-08T00:17:43.752983Z"
    }
   },
   "id": "7fb1bc0527ac6a0"
  },
  {
   "cell_type": "code",
   "execution_count": 135,
   "outputs": [],
   "source": [
    "spins, energies, equilibrium = test.algo(spin_grid, 1000000, 0.4, energy, 50)"
   ],
   "metadata": {
    "collapsed": false,
    "ExecuteTime": {
     "end_time": "2024-01-08T00:17:46.191426Z",
     "start_time": "2024-01-08T00:17:43.761109Z"
    }
   },
   "id": "c07af197310bf9c7"
  },
  {
   "cell_type": "code",
   "execution_count": 136,
   "outputs": [],
   "source": [
    "test.plot(cmap='binary', times=25000000, beta=0.4, save=False)"
   ],
   "metadata": {
    "collapsed": false,
    "ExecuteTime": {
     "end_time": "2024-01-08T00:17:46.220758Z",
     "start_time": "2024-01-08T00:17:46.193546Z"
    }
   },
   "id": "68f681d8ca7ee490"
  },
  {
   "cell_type": "code",
   "execution_count": 137,
   "outputs": [],
   "source": [
    "# fig, axes = plt.subplots(1, 2, figsize=(12,4))\n",
    "# \n",
    "# plt.rcParams[\"font.family\"] = \"times\"\n",
    "# plt.rcParams[\"text.usetex\"] = True\n",
    "# \n",
    "# ax = axes[0]\n",
    "# ax.plot(spins/50**2)\n",
    "# ax.set_xlabel('Algorithm Time Steps')\n",
    "# ax.set_ylabel(r'Magnetization $\\langle M\\rangle$')\n",
    "# ax.grid()\n",
    "# ax = axes[1]\n",
    "# ax.plot(energies)\n",
    "# ax.set_xlabel('Algorithm Time Steps')\n",
    "# ax.set_ylabel(r'Energy $E$')\n",
    "# ax.grid()\n",
    "# fig.tight_layout()\n",
    "# fig.suptitle(r'Evolution of Average Spin and Energy', y=1.07, size=18)\n",
    "# plt.show()"
   ],
   "metadata": {
    "collapsed": false,
    "ExecuteTime": {
     "end_time": "2024-01-08T00:17:46.222258Z",
     "start_time": "2024-01-08T00:17:46.216016Z"
    }
   },
   "id": "f12b95d42bdfbd17"
  },
  {
   "cell_type": "code",
   "execution_count": 137,
   "outputs": [],
   "source": [],
   "metadata": {
    "collapsed": false,
    "ExecuteTime": {
     "end_time": "2024-01-08T00:17:46.222319Z",
     "start_time": "2024-01-08T00:17:46.218398Z"
    }
   },
   "id": "9c998fec165e47df"
  }
 ],
 "metadata": {
  "kernelspec": {
   "display_name": "Python 3",
   "language": "python",
   "name": "python3"
  },
  "language_info": {
   "codemirror_mode": {
    "name": "ipython",
    "version": 2
   },
   "file_extension": ".py",
   "mimetype": "text/x-python",
   "name": "python",
   "nbconvert_exporter": "python",
   "pygments_lexer": "ipython2",
   "version": "2.7.6"
  }
 },
 "nbformat": 4,
 "nbformat_minor": 5
}
