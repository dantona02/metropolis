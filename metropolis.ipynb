{
 "cells": [
  {
   "cell_type": "code",
   "execution_count": 7,
   "id": "initial_id",
   "metadata": {
    "collapsed": true,
    "jupyter": {
     "outputs_hidden": true
    },
    "ExecuteTime": {
     "end_time": "2024-01-24T22:11:18.182969Z",
     "start_time": "2024-01-24T22:11:18.178767Z"
    }
   },
   "outputs": [],
   "source": [
    "import numpy as np\n",
    "from scipy.interpolate import interp1d\n",
    "from scipy.optimize import minimize_scalar"
   ]
  },
  {
   "cell_type": "markdown",
   "source": [
    "# a)\n",
    "All of the code can be found in the ising.py file."
   ],
   "metadata": {
    "collapsed": false
   },
   "id": "73e63bbebda388ed"
  },
  {
   "cell_type": "markdown",
   "id": "9a08cfeb73c2abd2",
   "metadata": {
    "collapsed": false
   },
   "source": [
    "# b)\n",
    "$50\\times 50$-grid after $10\\,000\\cdot 50^2$ thermalization updates at $\\beta=0.45$. The lattice is being initialized to the ferromagnetic ground state, i.e. all spins are equal to one. Available in the \"image\" folder of this repository."
   ]
  },
  {
   "cell_type": "markdown",
   "id": "a849d2ca8d96d022",
   "metadata": {
    "collapsed": false
   },
   "source": [
    "# c)\n",
    "The following code calculates the magnetisation with the metropolis algorithm for $N=20$ and $N=50$ on an interval of $\\beta\\in [0.3,0.7]$. To avoid fluctuation of the magnetization, the last $500\\cdot N^2$ measurements are averaged.\n",
    "The results of this computation are shown in the figure below. As one can see, the magnetization curve of the $50\\times 50$-lattice are much smoother than the one of the $20\\times 20$-lattice.\n",
    "One reason for this is the size of the selected system. In most thermodynamic systems, the assumption is made that the system is infinite. A larger lattice has more spins that can interact. This leads to a larger number of microstates that determine the macro behavior of the system.\n",
    "This results in fewer statistical fluctuations of the observables and thus a smoother magnetization curve."
   ]
  },
  {
   "cell_type": "markdown",
   "id": "2398a6a61f295b21",
   "metadata": {
    "collapsed": false
   },
   "source": [
    "# d)\n",
    "This part of the code calculates the variance of the magnetization (or spins). The calculations are performed according to the following formula:\n",
    "\\begin{equation}\n",
    "\\operatorname{Var}\\left(M\\right)=\\left\\langle M^2\\right\\rangle-\\left\\langle M\\right\\rangle^2 \\quad \\text{with}\\quad M=\\sum_{i} \\sigma_i\n",
    "\\end{equation}\n",
    "The variance is then being normalized with the factor $\\beta/N^2$, wich gives us the susceptibility $\\chi$:\n",
    "\\begin{equation}\n",
    "\\chi=\\frac{\\beta}{N^2}\\left(\\left\\langle M^2\\right\\rangle-\\left\\langle M\\right\\rangle^2\\right)\n",
    "\\end{equation}\n",
    "Numerous sweep passes ($600\\cdot N^2$) are also used here to minimize the fluctuations of the observables.\n",
    "As one can see, the calculations with the bigger lattice, i.e. 50 by 50, allows much more precise statements to be made about the susceptibility curve and the critical temperature than with the smaller grid."
   ]
  },
  {
   "cell_type": "markdown",
   "id": "34a3215ac3f8d519",
   "metadata": {
    "collapsed": false
   },
   "source": [
    "# e)"
   ]
  },
  {
   "cell_type": "code",
   "execution_count": 18,
   "outputs": [],
   "source": [
    "betas = np.linspace(0.3, 0.7, 80)\n",
    "sus50 = np.load('data/sus50.npy')"
   ],
   "metadata": {
    "collapsed": false,
    "ExecuteTime": {
     "end_time": "2024-01-24T22:12:26.420291Z",
     "start_time": "2024-01-24T22:12:26.415030Z"
    }
   },
   "id": "879d0cbb5ecd630"
  },
  {
   "cell_type": "code",
   "execution_count": 28,
   "id": "9be6ade5fea56763",
   "metadata": {
    "collapsed": false,
    "ExecuteTime": {
     "end_time": "2024-01-24T22:14:53.831322Z",
     "start_time": "2024-01-24T22:14:53.826482Z"
    }
   },
   "outputs": [],
   "source": [
    "interp_susceptibility50 = interp1d(betas, sus50[0])"
   ]
  },
  {
   "cell_type": "code",
   "execution_count": 29,
   "id": "6b58298f909ba311",
   "metadata": {
    "collapsed": false,
    "ExecuteTime": {
     "end_time": "2024-01-24T22:14:53.966459Z",
     "start_time": "2024-01-24T22:14:53.961607Z"
    }
   },
   "outputs": [],
   "source": [
    "beta_crit = minimize_scalar(lambda x: -interp_susceptibility50(x), bounds=(0.3, 0.7), method='bounded')\n",
    "beta_crit = beta_crit.x\n",
    "kb = 1"
   ]
  },
  {
   "cell_type": "code",
   "execution_count": 30,
   "id": "f9b533cb36128188",
   "metadata": {
    "collapsed": false,
    "ExecuteTime": {
     "end_time": "2024-01-24T22:14:54.893771Z",
     "start_time": "2024-01-24T22:14:54.888062Z"
    }
   },
   "outputs": [
    {
     "data": {
      "text/plain": "2.316705526299458"
     },
     "execution_count": 30,
     "metadata": {},
     "output_type": "execute_result"
    }
   ],
   "source": [
    "(1 / beta_crit)"
   ]
  }
 ],
 "metadata": {
  "kernelspec": {
   "display_name": "Python 3 (ipykernel)",
   "language": "python",
   "name": "python3"
  },
  "language_info": {
   "codemirror_mode": {
    "name": "ipython",
    "version": 3
   },
   "file_extension": ".py",
   "mimetype": "text/x-python",
   "name": "python",
   "nbconvert_exporter": "python",
   "pygments_lexer": "ipython3",
   "version": "3.10.10"
  }
 },
 "nbformat": 4,
 "nbformat_minor": 5
}
