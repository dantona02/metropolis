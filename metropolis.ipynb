{
 "cells": [
  {
   "cell_type": "code",
   "execution_count": 1,
   "id": "initial_id",
   "metadata": {
    "collapsed": true,
    "ExecuteTime": {
     "end_time": "2024-01-08T01:26:58.499961Z",
     "start_time": "2024-01-08T01:26:57.740962Z"
    }
   },
   "outputs": [],
   "source": [
    "import numba\n",
    "import numpy as np\n",
    "import matplotlib.pyplot as plt\n",
    "from scipy.ndimage import convolve, generate_binary_structure\n",
    "import matplotlib\n",
    "matplotlib.use('QT5Agg')\n",
    "%matplotlib qt"
   ]
  },
  {
   "cell_type": "code",
   "execution_count": 99,
   "outputs": [
    {
     "name": "stderr",
     "output_type": "stream",
     "text": [
      "/Users/danielmiksch/miniconda3/envs/juplab/lib/python3.10/site-packages/numba/core/decorators.py:282: RuntimeWarning: nopython is set for njit and is ignored\n",
      "  warnings.warn('nopython is set for njit and is ignored', RuntimeWarning)\n"
     ]
    }
   ],
   "source": [
    "class isingmodel:\n",
    "    def __init__(self, N, J=1):\n",
    "        self.J = J\n",
    "        self.N = N\n",
    "        self.init_random = np.random.random((N, N))\n",
    "        self.grid_n = np.ones((N, N))\n",
    "        # self.grid_n[self.init_random >= .5] = 1\n",
    "        # self.grid_n[self.init_random < .5] = -1\n",
    "    \n",
    "    def get_energy(self, grid):\n",
    "        kernel = generate_binary_structure(2, 1)\n",
    "        kernel[1][1] = False\n",
    "        result = - self.J * grid * convolve(grid, kernel, mode='wrap')\n",
    "        return result.sum()\n",
    "    \n",
    "    def grid(self):\n",
    "        return self.grid_n\n",
    "    \n",
    "    @staticmethod\n",
    "    @numba.njit(\"Tuple((f8[:], f8[:], f8[:,:], f8[:]))(f8[:,:], i8, f8, f8, i8)\", nopython=True, nogil=True)\n",
    "    def metropolis(arr_spin, times, beta, energy, N):\n",
    "        arr_spin = arr_spin.copy()\n",
    "        total_spin = np.zeros(times - 1)\n",
    "        total_energy = np.zeros(times - 1)\n",
    "        # norm_variance = np.zeros(times -1)\n",
    "        for t in range(0, times - 1):\n",
    "            x = np.random.randint(0,N)\n",
    "            y = np.random.randint(0,N)\n",
    "            spin_t = arr_spin[x, y]\n",
    "            spin_prime = -spin_t\n",
    "            E_t = 0\n",
    "            E_prime = 0\n",
    "            neighbours = [(x - 1) % N, (x + 1) % N, (y - 1) % N, (y + 1) % N]\n",
    "            for nx in [neighbours[0], neighbours[1]]:\n",
    "                E_t += - spin_t * arr_spin[nx, y]\n",
    "                E_prime += - spin_prime * arr_spin[nx, y]\n",
    "            for ny in [neighbours[2], neighbours[3]]:\n",
    "                E_t += - spin_t * arr_spin[x, ny]\n",
    "                E_prime += - spin_prime * arr_spin[x, ny]\n",
    "            dE = E_prime - E_t\n",
    "            if (dE > 0) & (np.random.random() < np.exp(-beta * dE)):\n",
    "                arr_spin[x, y] = spin_prime\n",
    "                energy += dE\n",
    "            elif dE <= 0:\n",
    "                arr_spin[x, y] = spin_prime\n",
    "                energy += dE\n",
    "            total_spin[t] = arr_spin.sum()\n",
    "            # norm_variance[t] = arr_spin.var()\n",
    "            total_energy[t] = energy\n",
    "        \n",
    "        mag_squared = total_spin ** 2\n",
    "        \n",
    "        \n",
    "        return total_spin, total_energy, arr_spin, mag_squared\n",
    "        \n",
    "    def plot(self, cmap, times, beta, save=False):\n",
    "        fig, axes = plt.subplots(dpi=150)\n",
    "        plt.rcParams[\"font.family\"] = \"times\"\n",
    "        plt.rcParams[\"text.usetex\"] = True\n",
    "        plt.title(fr'{self.N}$\\times${self.N}-lattice after {times:.1e} thermalization steps' + '\\n' + rf'$\\beta={beta}$', fontsize=12, pad=10)\n",
    "        plt.imshow(equilibrium, cmap=cmap)\n",
    "        if save:\n",
    "            fig.savefig(f\"/Users/danielmiksch/Downloads/{self.N}by{self.N}_grid.pdf\")\n",
    "            \n",
    "    def magnetization(self, spins):\n",
    "        return spins / self.N ** 2\n",
    "    \n",
    "    def print_energy(self):\n",
    "        print(self.get_energy(self.grid_n))"
   ],
   "metadata": {
    "collapsed": false,
    "ExecuteTime": {
     "end_time": "2024-01-08T14:35:39.174365Z",
     "start_time": "2024-01-08T14:35:38.962465Z"
    }
   },
   "id": "f91d684baf53a881"
  },
  {
   "cell_type": "markdown",
   "source": [
    "# a)\n",
    "$50\\times 50$-grid after $10\\,000\\cdot 50^2$ thermalization updates at $\\beta=0.45$. The lattice is being initialized to the ferromagnetic ground state, i.e. all spins are equal to one."
   ],
   "metadata": {
    "collapsed": false
   },
   "id": "9a08cfeb73c2abd2"
  },
  {
   "cell_type": "code",
   "execution_count": 3,
   "outputs": [],
   "source": [
    "N = 50\n",
    "steps = 25e6\n",
    "beta = 0.45\n",
    "model = isingmodel(N=N)\n",
    "spin_grid = model.grid()\n",
    "energy = model.get_energy(spin_grid)"
   ],
   "metadata": {
    "collapsed": false,
    "ExecuteTime": {
     "end_time": "2024-01-08T01:26:58.969415Z",
     "start_time": "2024-01-08T01:26:58.964577Z"
    }
   },
   "id": "7fb1bc0527ac6a0"
  },
  {
   "cell_type": "code",
   "execution_count": 4,
   "outputs": [],
   "source": [
    "spins, energies, equilibrium, variance = model.metropolis(spin_grid, steps, beta, energy, N)"
   ],
   "metadata": {
    "collapsed": false,
    "ExecuteTime": {
     "end_time": "2024-01-08T01:27:58.978901Z",
     "start_time": "2024-01-08T01:26:58.967795Z"
    }
   },
   "id": "c07af197310bf9c7"
  },
  {
   "cell_type": "code",
   "execution_count": 5,
   "outputs": [],
   "source": [
    "model.plot(cmap='binary', times=steps, beta=beta, save=False)"
   ],
   "metadata": {
    "collapsed": false,
    "ExecuteTime": {
     "end_time": "2024-01-08T01:27:59.070761Z",
     "start_time": "2024-01-08T01:27:58.997139Z"
    }
   },
   "id": "68f681d8ca7ee490"
  },
  {
   "cell_type": "code",
   "execution_count": 6,
   "outputs": [
    {
     "data": {
      "text/plain": "2040.40544"
     },
     "execution_count": 6,
     "metadata": {},
     "output_type": "execute_result"
    }
   ],
   "source": [
    "spins[-25000:].mean()"
   ],
   "metadata": {
    "collapsed": false,
    "ExecuteTime": {
     "end_time": "2024-01-08T01:27:59.080283Z",
     "start_time": "2024-01-08T01:27:59.060620Z"
    }
   },
   "id": "361336c5de06c593"
  },
  {
   "cell_type": "markdown",
   "source": [
    "# c)\n",
    "The following code calculates the magnetisation with the metropolis algorithm for $N=20$ and $N=50$ on an interval of $\\beta\\in [0.3,0.7]$. To avoid fluctuation of the magnetization, the last $500\\cdot N^2$ measurements are averaged.\n",
    "The results of this computation are shown in the figure below. As one can see, the magnetization curve of the $50\\times 50$-lattice are much smoother than the one of the $20\\times 20$-lattice.\n",
    "One reason for this is the size of the selected system. In most thermodynamic systems, the assumption is made that the system is infinite. A larger lattice has more spins that can interact. This leads to a larger number of microstates that determine the macro behavior of the system.\n",
    "This results in fewer statistical fluctuations of the observables and thus a smoother magnetization curve."
   ],
   "metadata": {
    "collapsed": false
   },
   "id": "a849d2ca8d96d022"
  },
  {
   "cell_type": "code",
   "execution_count": 39,
   "outputs": [],
   "source": [
    "betas = np.linspace(0.3, 0.7, 20)\n",
    "N = [20, 50]\n",
    "steps = [10000 * i**2 for i in N]\n",
    "sweeps = [500 * i**2 for i in N]"
   ],
   "metadata": {
    "collapsed": false,
    "ExecuteTime": {
     "end_time": "2024-01-08T02:06:27.076741Z",
     "start_time": "2024-01-08T02:06:27.068380Z"
    }
   },
   "id": "c5f57602b87ce4fe"
  },
  {
   "cell_type": "code",
   "execution_count": 40,
   "outputs": [],
   "source": [
    "def get_magnetization(N, betas, sweeps):\n",
    "    magnetization_list = np.zeros((len(N), len(betas)))\n",
    "    for index1, i in enumerate(N):\n",
    "        magnetization = np.zeros(len(betas))\n",
    "        model = isingmodel(N=i)\n",
    "        spin_grid = model.grid()\n",
    "        energy = model.get_energy(spin_grid)\n",
    "        for index2, s in enumerate(betas):\n",
    "            spins, energies, equilibrium, variance = model.metropolis(spin_grid, steps[index1], s, energy, i)\n",
    "            magnetization[index2] = spins[-sweeps[index1]:].mean() / i**2\n",
    "        magnetization_list[index1] = magnetization\n",
    "            \n",
    "    return magnetization_list"
   ],
   "metadata": {
    "collapsed": false,
    "ExecuteTime": {
     "end_time": "2024-01-08T02:06:42.310454Z",
     "start_time": "2024-01-08T02:06:42.298206Z"
    }
   },
   "id": "30b0343f50b2db74"
  },
  {
   "cell_type": "code",
   "execution_count": 41,
   "outputs": [
    {
     "data": {
      "text/plain": "array([[ 0.0109261 ,  0.001713  ,  0.00420068, -0.04097008, -0.1634911 ,\n         0.4256311 ,  0.54817665,  0.79817728,  0.856505  ,  0.87797697,\n         0.92154005,  0.93979255,  0.95728353,  0.96647735,  0.97422165,\n         0.97798942,  0.97998155,  0.9856493 ,  0.98785025,  0.9893464 ],\n       [-0.00351969, -0.02724276, -0.01629092, -0.01553097, -0.01239974,\n         0.03463546,  0.21955268,  0.73917898,  0.86186742,  0.88989431,\n         0.92393705,  0.94228004,  0.95622893,  0.96579345,  0.97221121,\n         0.97787851,  0.98204236,  0.98480609,  0.98772919,  0.99026219]])"
     },
     "execution_count": 41,
     "metadata": {},
     "output_type": "execute_result"
    }
   ],
   "source": [
    "magnetization = get_magnetization(N, betas, sweeps)\n",
    "magnetization"
   ],
   "metadata": {
    "collapsed": false,
    "ExecuteTime": {
     "end_time": "2024-01-08T02:27:16.716709Z",
     "start_time": "2024-01-08T02:06:42.933614Z"
    }
   },
   "id": "9f12052a511f4a05"
  },
  {
   "cell_type": "code",
   "execution_count": 55,
   "outputs": [],
   "source": [
    "fig, ax = plt.subplots()\n",
    "\n",
    "ax.plot(1 / betas, magnetization[0], 'o--', c='blue', label=r'$20\\times20$-lattice')\n",
    "ax.plot(1 / betas, magnetization[1], 'o--', c='red', label=r'$50\\times50$-lattice')\n",
    "ax.axhline(0, c='grey', linewidth=.8)\n",
    "ax.set_xlabel(r'$1/\\beta$')\n",
    "ax.set_ylabel(r'Magnetization $\\langle M\\rangle$')\n",
    "plt.title('Magnetization of different lattices', fontsize=12, pad=10)\n",
    "\n",
    "legend = ax.legend(loc=\"upper right\", bbox_to_anchor=(0.92, 0.92), fancybox=False, edgecolor='black', fontsize=12)\n",
    "legend.set_zorder(10)\n",
    "legend.get_frame().set_linewidth(0.5)\n",
    "\n",
    "plt.show()"
   ],
   "metadata": {
    "collapsed": false,
    "ExecuteTime": {
     "end_time": "2024-01-08T09:50:09.710563Z",
     "start_time": "2024-01-08T09:50:09.680249Z"
    }
   },
   "id": "6256f0442372a38f"
  },
  {
   "cell_type": "code",
   "execution_count": null,
   "outputs": [],
   "source": [
    "# fig, axes = plt.subplots(1, 2, figsize=(12,4))\n",
    "# \n",
    "# plt.rcParams[\"font.family\"] = \"times\"\n",
    "# plt.rcParams[\"text.usetex\"] = True\n",
    "# \n",
    "# ax = axes[0]\n",
    "# ax.plot(spins/50**2)\n",
    "# ax.set_xlabel('Algorithm Time Steps')\n",
    "# ax.set_ylabel(r'Magnetization $\\langle M\\rangle$')\n",
    "# ax.grid()\n",
    "# ax = axes[1]\n",
    "# ax.plot(energies)\n",
    "# ax.set_xlabel('Algorithm Time Steps')\n",
    "# ax.set_ylabel(r'Energy $E$')\n",
    "# ax.grid()\n",
    "# fig.tight_layout()\n",
    "# fig.suptitle(r'Evolution of Average Spin and Energy', y=1.07, size=18)\n",
    "# plt.show()"
   ],
   "metadata": {
    "collapsed": false,
    "ExecuteTime": {
     "start_time": "2024-01-08T01:30:59.792042Z"
    }
   },
   "id": "f12b95d42bdfbd17"
  },
  {
   "cell_type": "markdown",
   "source": [
    "# d)"
   ],
   "metadata": {
    "collapsed": false
   },
   "id": "2398a6a61f295b21"
  },
  {
   "cell_type": "code",
   "execution_count": 126,
   "outputs": [],
   "source": [
    "betas = np.linspace(0.3, 0.7, 20)\n",
    "N = [20, 50]\n",
    "steps = [10000 * i ** 2 for i in N]\n",
    "sweeps = [600 * i ** 2 for i in N]"
   ],
   "metadata": {
    "collapsed": false,
    "ExecuteTime": {
     "end_time": "2024-01-08T15:36:51.829559Z",
     "start_time": "2024-01-08T15:36:51.819391Z"
    }
   },
   "id": "79a89b544a3f3942"
  },
  {
   "cell_type": "code",
   "execution_count": 127,
   "outputs": [],
   "source": [
    "def get_magnetization(N, betas, sweeps):\n",
    "    variance_list = np.zeros((len(N), len(betas)))\n",
    "    for index1, i in enumerate(N):\n",
    "        variance = np.zeros(len(betas))\n",
    "        model = isingmodel(N=i)\n",
    "        spin_grid = model.grid()\n",
    "        energy = model.get_energy(spin_grid)\n",
    "        for index2, s in enumerate(betas):\n",
    "            spins, energies, equilibrium, mag_squared = model.metropolis(spin_grid, steps[index1], s, energy, i)\n",
    "            variance[index2] = beta * (mag_squared[-sweeps[index1]:].mean() - spins[-sweeps[index1]:].mean() ** 2) / i**2\n",
    "        variance_list[index1] = variance\n",
    "\n",
    "    return variance_list"
   ],
   "metadata": {
    "collapsed": false,
    "ExecuteTime": {
     "end_time": "2024-01-08T15:36:52.347310Z",
     "start_time": "2024-01-08T15:36:52.341185Z"
    }
   },
   "id": "2f88024e0134a16f"
  },
  {
   "cell_type": "code",
   "execution_count": 128,
   "outputs": [],
   "source": [
    "variance = get_magnetization(N, betas, sweeps)"
   ],
   "metadata": {
    "collapsed": false,
    "ExecuteTime": {
     "end_time": "2024-01-08T15:57:34.627669Z",
     "start_time": "2024-01-08T15:36:53.175094Z"
    }
   },
   "id": "847f0c7e3e918aab"
  },
  {
   "cell_type": "code",
   "execution_count": 129,
   "outputs": [
    {
     "data": {
      "text/plain": "array([[4.23637318e+00, 6.48776817e+00, 9.21784376e+00, 2.02425153e+01,\n        1.92234617e+01, 1.87984785e+01, 7.40000379e+00, 5.29998396e+00,\n        1.17735125e+00, 1.44203712e+00, 2.42426470e-01, 2.02178901e-01,\n        1.26060607e-01, 1.23729902e-01, 5.06868538e-02, 6.12197150e-02,\n        4.47886637e-02, 3.49408299e-02, 1.94462317e-02, 1.69449796e-02],\n       [5.47339810e+00, 6.80279635e+00, 8.78538560e+00, 1.09256116e+01,\n        1.41011402e+01, 4.31103823e+01, 2.08770825e+02, 1.46301852e+01,\n        2.36193879e+00, 6.90456768e-01, 2.90349619e-01, 2.52328388e-01,\n        1.63122408e-01, 1.13570352e-01, 6.45294475e-02, 4.80211902e-02,\n        4.15942776e-02, 2.95113955e-02, 2.49789672e-02, 1.99977009e-02]])"
     },
     "execution_count": 129,
     "metadata": {},
     "output_type": "execute_result"
    }
   ],
   "source": [
    "variance"
   ],
   "metadata": {
    "collapsed": false,
    "ExecuteTime": {
     "end_time": "2024-01-08T15:57:45.317469Z",
     "start_time": "2024-01-08T15:57:45.300992Z"
    }
   },
   "id": "b6855650f81be9fa"
  },
  {
   "cell_type": "code",
   "execution_count": 130,
   "outputs": [
    {
     "data": {
      "text/plain": "[<matplotlib.lines.Line2D at 0x29a0b30a0>]"
     },
     "execution_count": 130,
     "metadata": {},
     "output_type": "execute_result"
    }
   ],
   "source": [
    "fig, ax = plt.subplots()\n",
    "ax.plot(1 / betas, variance[0], 'o--', c='blue', label=r'$20\\times20$-lattice')\n",
    "ax.plot(1 / betas, variance[1], 'o--', c='red', label=r'$50\\times50$-lattice')"
   ],
   "metadata": {
    "collapsed": false,
    "ExecuteTime": {
     "end_time": "2024-01-08T15:57:45.996006Z",
     "start_time": "2024-01-08T15:57:45.958196Z"
    }
   },
   "id": "c526ebc47b0a24fd"
  },
  {
   "cell_type": "code",
   "execution_count": 76,
   "outputs": [],
   "source": [
    "# fig, axes = plt.subplots(1, 2, figsize=(12,4))\n",
    "# \n",
    "# plt.rcParams[\"font.family\"] = \"times\"\n",
    "# plt.rcParams[\"text.usetex\"] = True\n",
    "# \n",
    "# ax = axes[0]\n",
    "# ax.plot(variance)\n",
    "# ax.set_xlabel('Algorithm Time Steps')\n",
    "# ax.set_ylabel(r'Magnetization $\\langle M\\rangle$')\n",
    "# ax.grid()\n",
    "# ax = axes[1]\n",
    "# ax.plot(energies)\n",
    "# ax.set_xlabel('Algorithm Time Steps')\n",
    "# ax.set_ylabel(r'Energy $E$')\n",
    "# ax.grid()\n",
    "# fig.tight_layout()\n",
    "# fig.suptitle(r'Evolution of Average Spin and Energy', y=1.07, size=18)\n",
    "# plt.show()"
   ],
   "metadata": {
    "collapsed": false,
    "ExecuteTime": {
     "end_time": "2024-01-08T11:47:05.005598Z",
     "start_time": "2024-01-08T11:47:03.948722Z"
    }
   },
   "id": "5b179f1715a0f0ea"
  }
 ],
 "metadata": {
  "kernelspec": {
   "display_name": "Python 3",
   "language": "python",
   "name": "python3"
  },
  "language_info": {
   "codemirror_mode": {
    "name": "ipython",
    "version": 2
   },
   "file_extension": ".py",
   "mimetype": "text/x-python",
   "name": "python",
   "nbconvert_exporter": "python",
   "pygments_lexer": "ipython2",
   "version": "2.7.6"
  }
 },
 "nbformat": 4,
 "nbformat_minor": 5
}
